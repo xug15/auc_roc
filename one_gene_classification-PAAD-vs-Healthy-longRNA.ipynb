{
 "cells": [
  {
   "cell_type": "markdown",
   "metadata": {},
   "source": [
    "## Load modules."
   ]
  },
  {
   "cell_type": "code",
   "execution_count": 17,
   "metadata": {},
   "outputs": [],
   "source": [
    "#Import module\n",
    "import numpy as np\n",
    "import matplotlib.pyplot as plt\n",
    "import pandas as pd\n",
    "from itertools import cycle\n",
    "\n",
    "from sklearn import svm, datasets\n",
    "from sklearn.metrics import roc_curve, auc\n",
    "from sklearn.model_selection import train_test_split\n",
    "from sklearn.preprocessing import label_binarize\n",
    "from sklearn.multiclass import OneVsRestClassifier\n",
    "from scipy import interp\n",
    "\n",
    "import re"
   ]
  },
  {
   "cell_type": "markdown",
   "metadata": {},
   "source": [
    "## Read gene count table"
   ]
  },
  {
   "cell_type": "code",
   "execution_count": 18,
   "metadata": {},
   "outputs": [
    {
     "name": "stdout",
     "output_type": "stream",
     "text": [
      "<class 'pandas.core.frame.DataFrame'>\n",
      "                                             feature  SRR5679904  SRR5679905  \\\n",
      "0  ENSG00000243485.5|lncRNA|MIR1302-2HG|ENSG00000...           0           0   \n",
      "1  ENSG00000237613.2|lncRNA|FAM138A|ENSG000002376...           0           0   \n",
      "2  ENSG00000186092.5|mRNA|OR4F5|ENSG00000186092.5...           0           0   \n",
      "3  ENSG00000238009.6|lncRNA|AL627309.1|ENSG000002...           1          11   \n",
      "4  ENSG00000239945.1|lncRNA|AL627309.3|ENSG000002...           0           0   \n",
      "\n",
      "   SRR5679906  SRR5679907  SRR5679908  SRR5679909  SRR5687235  SRR5687236  \\\n",
      "0           0           0           0           0           2           0   \n",
      "1           8           0           0           0           0           0   \n",
      "2           0           0           0           0           0           0   \n",
      "3           6           8          10           0          15           1   \n",
      "4           6           0           0           0           4           0   \n",
      "\n",
      "   SRR5687237     ...      SRR5714912  SRR5714913  SRR5714914  SRR5714915  \\\n",
      "0           0     ...               0           0           0           0   \n",
      "1           1     ...               0           0           0           0   \n",
      "2           0     ...               2           0           0           0   \n",
      "3          13     ...               0           2          18           2   \n",
      "4           5     ...               0           0           0           2   \n",
      "\n",
      "   SRR5714916  SRR5714917  SRR5714918  SRR5714919  SRR5714920  SRR5714921  \n",
      "0           0           0           0           0           0           1  \n",
      "1           0           0           0           0           1           1  \n",
      "2           0           0           0           0           0           0  \n",
      "3          27          33           0           0           5           7  \n",
      "4           5           7           0           0           1           3  \n",
      "\n",
      "[5 rows x 86 columns]\n",
      "<class 'pandas.core.frame.DataFrame'>\n",
      "    sample_id    label\n",
      "0  SRR5712482  Healthy\n",
      "1  SRR5712483  Healthy\n",
      "2  SRR5712484  Healthy\n",
      "3  SRR5712485  Healthy\n",
      "4  SRR5712486  Healthy\n"
     ]
    }
   ],
   "source": [
    "data=pd.read_csv('../diff-cancer/machine-classifer/featurecounts-longRNA.txt',sep=\"\\t\")\n",
    "label=pd.read_csv('../diff-cancer/machine-classifer/featurecount_sample_classes-longRNA.txt',sep=\"\\t\")\n",
    "\n",
    "print(type(data))\n",
    "print(data.head())\n",
    "print(type(label))\n",
    "print(label.head())"
   ]
  },
  {
   "cell_type": "code",
   "execution_count": 19,
   "metadata": {},
   "outputs": [
    {
     "name": "stdout",
     "output_type": "stream",
     "text": [
      "['CHD' 'CRC' 'HCC' 'Healthy' 'PAAD']\n"
     ]
    }
   ],
   "source": [
    "#data.iloc[0,0]\n",
    "#d1=data.loc[data['feature']=='hsa-let-7a-2-3p|miRNA|hsa-let-7a-2-3p|hsa-let-7a-2-3p|hsa-let-7a-2-3p|0|22']\n",
    "#\n",
    "d1=data\n",
    "d2=label.iloc[:,1].values\n",
    "d2_unique=np.unique(d2)\n",
    "\n",
    "#type(d2)\n",
    "#print(d2)\n",
    "print(d2_unique)"
   ]
  },
  {
   "cell_type": "markdown",
   "metadata": {},
   "source": [
    "## Normolize by sample with CPM"
   ]
  },
  {
   "cell_type": "code",
   "execution_count": 20,
   "metadata": {},
   "outputs": [
    {
     "data": {
      "text/html": [
       "<div>\n",
       "<style scoped>\n",
       "    .dataframe tbody tr th:only-of-type {\n",
       "        vertical-align: middle;\n",
       "    }\n",
       "\n",
       "    .dataframe tbody tr th {\n",
       "        vertical-align: top;\n",
       "    }\n",
       "\n",
       "    .dataframe thead th {\n",
       "        text-align: right;\n",
       "    }\n",
       "</style>\n",
       "<table border=\"1\" class=\"dataframe\">\n",
       "  <thead>\n",
       "    <tr style=\"text-align: right;\">\n",
       "      <th></th>\n",
       "      <th>feature</th>\n",
       "      <th>SRR5679904</th>\n",
       "      <th>SRR5679905</th>\n",
       "      <th>SRR5679906</th>\n",
       "      <th>SRR5679907</th>\n",
       "      <th>SRR5679908</th>\n",
       "      <th>SRR5679909</th>\n",
       "      <th>SRR5687235</th>\n",
       "      <th>SRR5687236</th>\n",
       "      <th>SRR5687237</th>\n",
       "      <th>...</th>\n",
       "      <th>SRR5714911</th>\n",
       "      <th>SRR5714912</th>\n",
       "      <th>SRR5714913</th>\n",
       "      <th>SRR5714914</th>\n",
       "      <th>SRR5714915</th>\n",
       "      <th>SRR5714916</th>\n",
       "      <th>SRR5714917</th>\n",
       "      <th>SRR5714918</th>\n",
       "      <th>SRR5714919</th>\n",
       "      <th>SRR5714920</th>\n",
       "    </tr>\n",
       "  </thead>\n",
       "  <tbody>\n",
       "    <tr>\n",
       "      <th>0</th>\n",
       "      <td>ENSG00000243485.5|lncRNA|MIR1302-2HG|ENSG00000...</td>\n",
       "      <td>0.000000</td>\n",
       "      <td>0.000000</td>\n",
       "      <td>0.000000</td>\n",
       "      <td>0.000000</td>\n",
       "      <td>0.000000</td>\n",
       "      <td>0.0</td>\n",
       "      <td>0.477332</td>\n",
       "      <td>0.000000</td>\n",
       "      <td>0.000000</td>\n",
       "      <td>...</td>\n",
       "      <td>0.000000</td>\n",
       "      <td>0.000000</td>\n",
       "      <td>0.000000</td>\n",
       "      <td>0.000000</td>\n",
       "      <td>0.000000</td>\n",
       "      <td>0.000000</td>\n",
       "      <td>0.000000</td>\n",
       "      <td>0.0</td>\n",
       "      <td>0.0</td>\n",
       "      <td>0.000000</td>\n",
       "    </tr>\n",
       "    <tr>\n",
       "      <th>1</th>\n",
       "      <td>ENSG00000237613.2|lncRNA|FAM138A|ENSG000002376...</td>\n",
       "      <td>0.000000</td>\n",
       "      <td>0.000000</td>\n",
       "      <td>3.836579</td>\n",
       "      <td>0.000000</td>\n",
       "      <td>0.000000</td>\n",
       "      <td>0.0</td>\n",
       "      <td>0.000000</td>\n",
       "      <td>0.000000</td>\n",
       "      <td>0.142731</td>\n",
       "      <td>...</td>\n",
       "      <td>0.476697</td>\n",
       "      <td>0.000000</td>\n",
       "      <td>0.000000</td>\n",
       "      <td>0.000000</td>\n",
       "      <td>0.000000</td>\n",
       "      <td>0.000000</td>\n",
       "      <td>0.000000</td>\n",
       "      <td>0.0</td>\n",
       "      <td>0.0</td>\n",
       "      <td>0.277733</td>\n",
       "    </tr>\n",
       "    <tr>\n",
       "      <th>2</th>\n",
       "      <td>ENSG00000186092.5|mRNA|OR4F5|ENSG00000186092.5...</td>\n",
       "      <td>0.000000</td>\n",
       "      <td>0.000000</td>\n",
       "      <td>0.000000</td>\n",
       "      <td>0.000000</td>\n",
       "      <td>0.000000</td>\n",
       "      <td>0.0</td>\n",
       "      <td>0.000000</td>\n",
       "      <td>0.000000</td>\n",
       "      <td>0.000000</td>\n",
       "      <td>...</td>\n",
       "      <td>0.000000</td>\n",
       "      <td>1.071889</td>\n",
       "      <td>0.000000</td>\n",
       "      <td>0.000000</td>\n",
       "      <td>0.000000</td>\n",
       "      <td>0.000000</td>\n",
       "      <td>0.000000</td>\n",
       "      <td>0.0</td>\n",
       "      <td>0.0</td>\n",
       "      <td>0.000000</td>\n",
       "    </tr>\n",
       "    <tr>\n",
       "      <th>3</th>\n",
       "      <td>ENSG00000238009.6|lncRNA|AL627309.1|ENSG000002...</td>\n",
       "      <td>0.608422</td>\n",
       "      <td>12.529259</td>\n",
       "      <td>2.877434</td>\n",
       "      <td>6.332275</td>\n",
       "      <td>3.966172</td>\n",
       "      <td>0.0</td>\n",
       "      <td>3.579989</td>\n",
       "      <td>0.289279</td>\n",
       "      <td>1.855506</td>\n",
       "      <td>...</td>\n",
       "      <td>2.383483</td>\n",
       "      <td>0.000000</td>\n",
       "      <td>0.699733</td>\n",
       "      <td>5.832423</td>\n",
       "      <td>0.769242</td>\n",
       "      <td>3.043868</td>\n",
       "      <td>9.988537</td>\n",
       "      <td>0.0</td>\n",
       "      <td>0.0</td>\n",
       "      <td>1.388664</td>\n",
       "    </tr>\n",
       "    <tr>\n",
       "      <th>4</th>\n",
       "      <td>ENSG00000239945.1|lncRNA|AL627309.3|ENSG000002...</td>\n",
       "      <td>0.000000</td>\n",
       "      <td>0.000000</td>\n",
       "      <td>2.877434</td>\n",
       "      <td>0.000000</td>\n",
       "      <td>0.000000</td>\n",
       "      <td>0.0</td>\n",
       "      <td>0.954664</td>\n",
       "      <td>0.000000</td>\n",
       "      <td>0.713656</td>\n",
       "      <td>...</td>\n",
       "      <td>0.476697</td>\n",
       "      <td>0.000000</td>\n",
       "      <td>0.000000</td>\n",
       "      <td>0.000000</td>\n",
       "      <td>0.769242</td>\n",
       "      <td>0.563679</td>\n",
       "      <td>2.118781</td>\n",
       "      <td>0.0</td>\n",
       "      <td>0.0</td>\n",
       "      <td>0.277733</td>\n",
       "    </tr>\n",
       "  </tbody>\n",
       "</table>\n",
       "<p>5 rows × 85 columns</p>\n",
       "</div>"
      ],
      "text/plain": [
       "                                             feature  SRR5679904  SRR5679905  \\\n",
       "0  ENSG00000243485.5|lncRNA|MIR1302-2HG|ENSG00000...    0.000000    0.000000   \n",
       "1  ENSG00000237613.2|lncRNA|FAM138A|ENSG000002376...    0.000000    0.000000   \n",
       "2  ENSG00000186092.5|mRNA|OR4F5|ENSG00000186092.5...    0.000000    0.000000   \n",
       "3  ENSG00000238009.6|lncRNA|AL627309.1|ENSG000002...    0.608422   12.529259   \n",
       "4  ENSG00000239945.1|lncRNA|AL627309.3|ENSG000002...    0.000000    0.000000   \n",
       "\n",
       "   SRR5679906  SRR5679907  SRR5679908  SRR5679909  SRR5687235  SRR5687236  \\\n",
       "0    0.000000    0.000000    0.000000         0.0    0.477332    0.000000   \n",
       "1    3.836579    0.000000    0.000000         0.0    0.000000    0.000000   \n",
       "2    0.000000    0.000000    0.000000         0.0    0.000000    0.000000   \n",
       "3    2.877434    6.332275    3.966172         0.0    3.579989    0.289279   \n",
       "4    2.877434    0.000000    0.000000         0.0    0.954664    0.000000   \n",
       "\n",
       "   SRR5687237     ...      SRR5714911  SRR5714912  SRR5714913  SRR5714914  \\\n",
       "0    0.000000     ...        0.000000    0.000000    0.000000    0.000000   \n",
       "1    0.142731     ...        0.476697    0.000000    0.000000    0.000000   \n",
       "2    0.000000     ...        0.000000    1.071889    0.000000    0.000000   \n",
       "3    1.855506     ...        2.383483    0.000000    0.699733    5.832423   \n",
       "4    0.713656     ...        0.476697    0.000000    0.000000    0.000000   \n",
       "\n",
       "   SRR5714915  SRR5714916  SRR5714917  SRR5714918  SRR5714919  SRR5714920  \n",
       "0    0.000000    0.000000    0.000000         0.0         0.0    0.000000  \n",
       "1    0.000000    0.000000    0.000000         0.0         0.0    0.277733  \n",
       "2    0.000000    0.000000    0.000000         0.0         0.0    0.000000  \n",
       "3    0.769242    3.043868    9.988537         0.0         0.0    1.388664  \n",
       "4    0.769242    0.563679    2.118781         0.0         0.0    0.277733  \n",
       "\n",
       "[5 rows x 85 columns]"
      ]
     },
     "execution_count": 20,
     "metadata": {},
     "output_type": "execute_result"
    }
   ],
   "source": [
    "#get dataframe shape\n",
    "shape=data.shape\n",
    "\n",
    "#divide gene counts and gene name\n",
    "data_without_gene=data.iloc[:,1:shape[1]-1]\n",
    "data_name=data.iloc[:,0]\n",
    "\n",
    "#\n",
    "#data_without_gene\n",
    "#Sum each columns.\n",
    "data_without_gene_sum=data_without_gene.sum()\n",
    "\n",
    "#Calculate scale factor with cpm.\n",
    "data_without_gene_sum_scale=data_without_gene_sum/1000000\n",
    "data_without_gene_sum_scale=data_without_gene_sum_scale.values\n",
    "data_without_gene_sum_scale\n",
    "\n",
    "#Normolization gene counts with scale factor\n",
    "data_without_gene_norm=data_without_gene/data_without_gene_sum_scale\n",
    "\n",
    "#merge data frame\n",
    "data_without_gene_norm_complete=pd.concat([data_name,data_without_gene_norm],axis=1)\n",
    "data_without_gene_norm_complete.head()\n"
   ]
  },
  {
   "cell_type": "markdown",
   "metadata": {},
   "source": [
    "## Label and Counts"
   ]
  },
  {
   "cell_type": "code",
   "execution_count": 21,
   "metadata": {},
   "outputs": [
    {
     "name": "stdout",
     "output_type": "stream",
     "text": [
      "['CHD' 'CRC' 'HCC' 'Healthy' 'PAAD']\n"
     ]
    }
   ],
   "source": [
    "print(d2_unique)"
   ]
  },
  {
   "cell_type": "code",
   "execution_count": 22,
   "metadata": {},
   "outputs": [
    {
     "name": "stdout",
     "output_type": "stream",
     "text": [
      "['Healthy' 'HCC' 'CRC' 'CHD' 'PAAD']\n",
      "['feature' 'SRR5679904' 'SRR5679905' 'SRR5679906' 'SRR5679907'\n",
      " 'SRR5679908' 'SRR5679909']\n",
      "['feature' 'SRR5687235' 'SRR5687236' 'SRR5687237' 'SRR5687238'\n",
      " 'SRR5687239' 'SRR5687240' 'SRR5687241' 'SRR5687242' 'SRR5687243'\n",
      " 'SRR5687244' 'SRR5687245' 'SRR5687246']\n",
      "['feature' 'SRR5712516' 'SRR5712517' 'SRR5712518' 'SRR5712519'\n",
      " 'SRR5712520' 'SRR5712521' 'SRR5712522' 'SRR5712523' 'SRR5712524'\n",
      " 'SRR5712525' 'SRR5712526' 'SRR5712527' 'SRR5712528' 'SRR5712529'\n",
      " 'SRR5712530' 'SRR5712531' 'SRR5712532' 'SRR5712533' 'SRR5712534'\n",
      " 'SRR5712535' 'SRR5712536']\n",
      "['feature' 'SRR5712482' 'SRR5712483' 'SRR5712484' 'SRR5712485'\n",
      " 'SRR5712486' 'SRR5712487' 'SRR5712488' 'SRR5712489' 'SRR5712490'\n",
      " 'SRR5712491' 'SRR5712492' 'SRR5712493' 'SRR5712494' 'SRR5712495'\n",
      " 'SRR5712496' 'SRR5712497' 'SRR5712498' 'SRR5712499' 'SRR5712500'\n",
      " 'SRR5712501' 'SRR5712502' 'SRR5712503' 'SRR5712504' 'SRR5712505'\n",
      " 'SRR5712506' 'SRR5712507' 'SRR5712508' 'SRR5712509' 'SRR5712510'\n",
      " 'SRR5712511' 'SRR5712512' 'SRR5712513']\n",
      "['feature' 'SRR5714908' 'SRR5714909' 'SRR5714910' 'SRR5714911'\n",
      " 'SRR5714912' 'SRR5714913' 'SRR5714914' 'SRR5714915' 'SRR5714916'\n",
      " 'SRR5714917' 'SRR5714918' 'SRR5714919' 'SRR5714920' 'SRR5714921']\n"
     ]
    }
   ],
   "source": [
    "# Get label class.\n",
    "label_class=label['label'].unique()\n",
    "print(label_class)\n",
    "\n",
    "def get_label_class_by_name(name):\n",
    "    label_healthy=label.loc[label['label']==name]\n",
    "    healthy=label_healthy.iloc[:,0].values\n",
    "    healthy2=np.append(['feature'],healthy)\n",
    "    return healthy2\n",
    "\n",
    "#Get CHD\n",
    "CHD2=get_label_class_by_name('CHD')\n",
    "print(CHD2)\n",
    "\n",
    "#Get CRC\n",
    "CRC2=get_label_class_by_name('CRC')\n",
    "print(CRC2)\n",
    "\n",
    "#Get HCC\n",
    "HCC2=get_label_class_by_name('HCC')\n",
    "print(HCC2)\n",
    "\n",
    "#Get healty class    \n",
    "Healthy2=get_label_class_by_name('Healthy')\n",
    "print (Healthy2)\n",
    "\n",
    "#Get PAAD\n",
    "PAAD2=get_label_class_by_name('PAAD')\n",
    "print(PAAD2)\n",
    "\n"
   ]
  },
  {
   "cell_type": "code",
   "execution_count": 23,
   "metadata": {},
   "outputs": [
    {
     "name": "stdout",
     "output_type": "stream",
     "text": [
      "['feature' 'SRR5714908' 'SRR5714909' 'SRR5714910' 'SRR5714911'\n",
      " 'SRR5714912' 'SRR5714913' 'SRR5714914' 'SRR5714915' 'SRR5714916'\n",
      " 'SRR5714917' 'SRR5714918' 'SRR5714919' 'SRR5714920' 'SRR5714921']\n"
     ]
    },
    {
     "data": {
      "text/html": [
       "<div>\n",
       "<style scoped>\n",
       "    .dataframe tbody tr th:only-of-type {\n",
       "        vertical-align: middle;\n",
       "    }\n",
       "\n",
       "    .dataframe tbody tr th {\n",
       "        vertical-align: top;\n",
       "    }\n",
       "\n",
       "    .dataframe thead th {\n",
       "        text-align: right;\n",
       "    }\n",
       "</style>\n",
       "<table border=\"1\" class=\"dataframe\">\n",
       "  <thead>\n",
       "    <tr style=\"text-align: right;\">\n",
       "      <th></th>\n",
       "      <th>sample_id</th>\n",
       "      <th>label</th>\n",
       "    </tr>\n",
       "  </thead>\n",
       "  <tbody>\n",
       "    <tr>\n",
       "      <th>71</th>\n",
       "      <td>SRR5714908</td>\n",
       "      <td>PAAD</td>\n",
       "    </tr>\n",
       "    <tr>\n",
       "      <th>72</th>\n",
       "      <td>SRR5714909</td>\n",
       "      <td>PAAD</td>\n",
       "    </tr>\n",
       "    <tr>\n",
       "      <th>73</th>\n",
       "      <td>SRR5714910</td>\n",
       "      <td>PAAD</td>\n",
       "    </tr>\n",
       "    <tr>\n",
       "      <th>74</th>\n",
       "      <td>SRR5714911</td>\n",
       "      <td>PAAD</td>\n",
       "    </tr>\n",
       "    <tr>\n",
       "      <th>75</th>\n",
       "      <td>SRR5714912</td>\n",
       "      <td>PAAD</td>\n",
       "    </tr>\n",
       "    <tr>\n",
       "      <th>76</th>\n",
       "      <td>SRR5714913</td>\n",
       "      <td>PAAD</td>\n",
       "    </tr>\n",
       "    <tr>\n",
       "      <th>77</th>\n",
       "      <td>SRR5714914</td>\n",
       "      <td>PAAD</td>\n",
       "    </tr>\n",
       "    <tr>\n",
       "      <th>78</th>\n",
       "      <td>SRR5714915</td>\n",
       "      <td>PAAD</td>\n",
       "    </tr>\n",
       "    <tr>\n",
       "      <th>79</th>\n",
       "      <td>SRR5714916</td>\n",
       "      <td>PAAD</td>\n",
       "    </tr>\n",
       "    <tr>\n",
       "      <th>80</th>\n",
       "      <td>SRR5714917</td>\n",
       "      <td>PAAD</td>\n",
       "    </tr>\n",
       "    <tr>\n",
       "      <th>81</th>\n",
       "      <td>SRR5714918</td>\n",
       "      <td>PAAD</td>\n",
       "    </tr>\n",
       "    <tr>\n",
       "      <th>82</th>\n",
       "      <td>SRR5714919</td>\n",
       "      <td>PAAD</td>\n",
       "    </tr>\n",
       "    <tr>\n",
       "      <th>83</th>\n",
       "      <td>SRR5714920</td>\n",
       "      <td>PAAD</td>\n",
       "    </tr>\n",
       "    <tr>\n",
       "      <th>84</th>\n",
       "      <td>SRR5714921</td>\n",
       "      <td>PAAD</td>\n",
       "    </tr>\n",
       "  </tbody>\n",
       "</table>\n",
       "</div>"
      ],
      "text/plain": [
       "     sample_id label\n",
       "71  SRR5714908  PAAD\n",
       "72  SRR5714909  PAAD\n",
       "73  SRR5714910  PAAD\n",
       "74  SRR5714911  PAAD\n",
       "75  SRR5714912  PAAD\n",
       "76  SRR5714913  PAAD\n",
       "77  SRR5714914  PAAD\n",
       "78  SRR5714915  PAAD\n",
       "79  SRR5714916  PAAD\n",
       "80  SRR5714917  PAAD\n",
       "81  SRR5714918  PAAD\n",
       "82  SRR5714919  PAAD\n",
       "83  SRR5714920  PAAD\n",
       "84  SRR5714921  PAAD"
      ]
     },
     "execution_count": 23,
     "metadata": {},
     "output_type": "execute_result"
    }
   ],
   "source": [
    "print(PAAD2)\n",
    "label.loc[label['label']=='PAAD']"
   ]
  },
  {
   "cell_type": "markdown",
   "metadata": {},
   "source": [
    "## Generate arrays: expression and label."
   ]
  },
  {
   "cell_type": "code",
   "execution_count": 24,
   "metadata": {},
   "outputs": [],
   "source": [
    "healty_count=data_without_gene_norm_complete[Healthy2]\n",
    "\n",
    "CHD_count=data_without_gene_norm_complete[CHD2]\n",
    "CRC_count=data_without_gene_norm_complete[CRC2]\n",
    "HCC_count=data_without_gene_norm_complete[HCC2]\n",
    "Healthy_count=data_without_gene_norm_complete[Healthy2]\n",
    "\n",
    "PAAD_count=data_without_gene_norm_complete[PAAD2[:-1]]\n",
    "\n",
    "\n"
   ]
  },
  {
   "cell_type": "code",
   "execution_count": 25,
   "metadata": {},
   "outputs": [
    {
     "name": "stdout",
     "output_type": "stream",
     "text": [
      "                                             feature  SRR5687235  SRR5687236  \\\n",
      "0  ENSG00000243485.5|lncRNA|MIR1302-2HG|ENSG00000...    0.477332    0.000000   \n",
      "1  ENSG00000237613.2|lncRNA|FAM138A|ENSG000002376...    0.000000    0.000000   \n",
      "2  ENSG00000186092.5|mRNA|OR4F5|ENSG00000186092.5...    0.000000    0.000000   \n",
      "3  ENSG00000238009.6|lncRNA|AL627309.1|ENSG000002...    3.579989    0.289279   \n",
      "4  ENSG00000239945.1|lncRNA|AL627309.3|ENSG000002...    0.954664    0.000000   \n",
      "\n",
      "   SRR5687237  SRR5687238  SRR5687239  SRR5687240  SRR5687241  SRR5687242  \\\n",
      "0    0.000000    0.000000    0.000000    0.000000    0.000000    0.000000   \n",
      "1    0.142731    0.000000    0.000000    0.000000    0.000000    0.000000   \n",
      "2    0.000000    0.000000    0.000000    0.000000    0.000000    0.000000   \n",
      "3    1.855506    1.331082    0.930869    2.344504    2.294044    1.461432   \n",
      "4    0.713656    0.221847    0.620580    0.586126    0.983162    0.243572   \n",
      "\n",
      "   SRR5687243  SRR5687244  SRR5687245  SRR5687246  \n",
      "0    0.490167    0.000000    0.000000    0.000000  \n",
      "1    0.000000    0.000000    0.000000    0.000000  \n",
      "2    0.000000    0.000000    0.000000    0.000000  \n",
      "3    1.960666    0.638331    2.696651    6.121353  \n",
      "4    0.245083    0.159583    1.011244    1.477568  \n",
      "ENSG00000239945.1|lncRNA|AL627309.3|ENSG00000239945.1|ENSG00000239945.1|0|1319\n",
      "<class 'pandas.core.frame.DataFrame'>\n"
     ]
    },
    {
     "data": {
      "text/plain": [
       "(109440, 7)"
      ]
     },
     "execution_count": 25,
     "metadata": {},
     "output_type": "execute_result"
    }
   ],
   "source": [
    "print(CRC_count.head())\n",
    "print(CRC_count.iloc[4,0])\n",
    "print(type(CHD_count))\n",
    "CHD_count.shape"
   ]
  },
  {
   "cell_type": "markdown",
   "metadata": {},
   "source": [
    "## Select one gene to plot auc."
   ]
  },
  {
   "cell_type": "code",
   "execution_count": 26,
   "metadata": {},
   "outputs": [
    {
     "data": {
      "text/plain": [
       "[[0.6105769230769231,\n",
       "  array([0.        , 0.        , 0.07692308, 0.07692308, 0.15384615,\n",
       "         0.15384615, 0.30769231, 0.30769231, 0.38461538, 0.38461538,\n",
       "         0.46153846, 0.46153846, 0.53846154, 0.53846154, 1.        ]),\n",
       "  array([0.     , 0.03125, 0.03125, 0.34375, 0.34375, 0.40625, 0.40625,\n",
       "         0.4375 , 0.4375 , 0.5625 , 0.5625 , 0.59375, 0.59375, 0.71875,\n",
       "         1.     ])],\n",
       " [0.6105769230769231,\n",
       "  array([0.        , 0.        , 0.07692308, 0.07692308, 0.15384615,\n",
       "         0.15384615, 0.30769231, 0.30769231, 0.38461538, 0.38461538,\n",
       "         0.46153846, 0.46153846, 0.53846154, 0.53846154, 1.        ]),\n",
       "  array([0.     , 0.03125, 0.03125, 0.34375, 0.34375, 0.40625, 0.40625,\n",
       "         0.4375 , 0.4375 , 0.5625 , 0.5625 , 0.59375, 0.59375, 0.71875,\n",
       "         1.     ])],\n",
       " [0.6382211538461539,\n",
       "  array([0.        , 0.07692308, 0.15384615, 0.30769231, 0.38461538,\n",
       "         0.46153846, 0.53846154, 1.        ]),\n",
       "  array([0.03125, 0.34375, 0.40625, 0.4375 , 0.5625 , 0.59375, 0.71875,\n",
       "         1.     ])]]"
      ]
     },
     "execution_count": 26,
     "metadata": {},
     "output_type": "execute_result"
    }
   ],
   "source": [
    "gene_name='ENSG00000239945.1|lncRNA|AL627309.3|ENSG00000239945.1|ENSG00000239945.1|0|1319'\n",
    "roc_calcualte_all(gene_name,Healthy_count,PAAD_count)"
   ]
  },
  {
   "cell_type": "code",
   "execution_count": 27,
   "metadata": {},
   "outputs": [],
   "source": [
    "def roc_calcualte_plot(gene_name,Healthy_count,Cancer_count):\n",
    "    #Select biomarker by gene name.\n",
    "    \n",
    "    control=Healthy_count.loc[Healthy_count['feature']==gene_name]\n",
    "    cancer=Cancer_count.loc[Cancer_count['feature']==gene_name]\n",
    "\n",
    "    #Remove the name\n",
    "    control2=control.iloc[:,1:control.shape[1]].values\n",
    "    cancer2=cancer.iloc[:,1:cancer.shape[1]].values\n",
    "    Expression2=np.append(control2[0],cancer2[0])\n",
    "\n",
    "    #set class label\n",
    "    control_label=np.repeat(0,control2[0].shape)\n",
    "    cancer_label=np.repeat(1,cancer2[0].shape)\n",
    "\n",
    "    #merge label\n",
    "    Label2=np.append(control_label,cancer_label)\n",
    "\n",
    "    #input data\n",
    "    Expression=np.asarray(Expression2)\n",
    "    Label=np.asarray(Label2)\n",
    "\n",
    "    # set dictory\n",
    "    Fpr = dict()\n",
    "    Tpr = dict()\n",
    "    Roc_auc = dict()\n",
    "\n",
    "    #calculate FPR, TPR and ROC\n",
    "    Fpr[0], Tpr[0], _= roc_curve(Label, Expression)\n",
    "    Roc_auc[0] = auc(Fpr[0], Tpr[0])\n",
    "\n",
    "    #Calculate micro-FPR, micro-TPR and micro-AUC\n",
    "    Fpr[\"micro\"], Tpr[\"micro\"], _ = roc_curve(Label.ravel(), Expression.ravel())\n",
    "    Roc_auc[\"micro\"] = auc(Fpr[\"micro\"], Tpr[\"micro\"])\n",
    "\n",
    "    # Compute macro-average ROC curve and ROC area\n",
    "\n",
    "\n",
    "    # First aggregate all false positive rates\n",
    "    All_Fpr = np.unique(Fpr[0])\n",
    "\n",
    "\n",
    "    # Then interpolate all ROC curves at this points\n",
    "    mean_Tpr = np.zeros_like(All_Fpr)\n",
    "    mean_Tpr += interp(All_Fpr, Fpr[0], Tpr[0])\n",
    "\n",
    "\n",
    "    # Finally average it and compute AUC\n",
    "\n",
    "    Fpr[\"macro\"] = All_Fpr\n",
    "    Tpr[\"macro\"] = mean_Tpr\n",
    "    Roc_auc[\"macro\"] = auc(Fpr[\"macro\"], Tpr[\"macro\"])\n",
    "\n",
    "    if(Roc_auc[0]<0.5):\n",
    "        control_label=np.repeat(1,control2[0].shape)\n",
    "        cancer_label=np.repeat(0,cancer2[0].shape)\n",
    "        Label2=np.append(control_label,cancer_label)\n",
    "        Label=np.asarray(Label2)\n",
    "        # set dictory\n",
    "        Fpr = dict()\n",
    "        Tpr = dict()\n",
    "        Roc_auc = dict()\n",
    "        #calculate FPR, TPR and ROC\n",
    "        Fpr[0], Tpr[0], _= roc_curve(Label, Expression)\n",
    "        Roc_auc[0] = auc(Fpr[0], Tpr[0])\n",
    "        #Calculate micro-FPR, micro-TPR and micro-AUC\n",
    "        Fpr[\"micro\"], Tpr[\"micro\"], _ = roc_curve(Label.ravel(), Expression.ravel())\n",
    "        Roc_auc[\"micro\"] = auc(Fpr[\"micro\"], Tpr[\"micro\"])\n",
    "        # Compute macro-average ROC curve and ROC area\n",
    "        # First aggregate all false positive rates\n",
    "        All_Fpr = np.unique(Fpr[0])\n",
    "        # Then interpolate all ROC curves at this points\n",
    "        mean_Tpr = np.zeros_like(All_Fpr)\n",
    "        mean_Tpr += interp(All_Fpr, Fpr[0], Tpr[0])\n",
    "        # Finally average it and compute AUC\n",
    "        Fpr[\"macro\"] = All_Fpr\n",
    "        Tpr[\"macro\"] = mean_Tpr\n",
    "        Roc_auc[\"macro\"] = auc(Fpr[\"macro\"], Tpr[\"macro\"])\n",
    "        \n",
    "    names_plt=gene_name.split('|')\n",
    "\n",
    "    # Plot all ROC curves\n",
    "    color='cornflowerblue'\n",
    "    lw=2\n",
    "    plt.figure(figsize=(8, 8))\n",
    "    plt.plot(Fpr[\"micro\"], Tpr[\"micro\"],\n",
    "             label='micro-average ROC curve (area = {0:0.2f})'\n",
    "                   ''.format(Roc_auc[\"micro\"]),\n",
    "             color='deeppink', linestyle=':', linewidth=4)\n",
    "\n",
    "    plt.plot(Fpr[\"macro\"], Tpr[\"macro\"],\n",
    "             label='macro-average ROC curve (area = {0:0.2f})'\n",
    "                   ''.format(Roc_auc[\"macro\"]),\n",
    "             color='navy', linestyle=':', linewidth=4)\n",
    "\n",
    "    colors = cycle(['aqua', 'darkorange', 'cornflowerblue'])\n",
    "\n",
    "\n",
    "    plt.plot(Fpr[0], Tpr[0], color=color, lw=lw,\n",
    "        label='ROC curve of class (area = {1:0.2f})'\n",
    "        ''.format(0, Roc_auc[0]))\n",
    "\n",
    "    plt.plot([0, 1], [0, 1], 'k--', lw=lw)\n",
    "    plt.xlim([0.0, 1.0])\n",
    "    plt.ylim([0.0, 1.05])\n",
    "    plt.xlabel('False Positive Rate')\n",
    "    plt.ylabel('True Positive Rate')\n",
    "    plt.title(names_plt[0]+' Receiver operating characteristic')\n",
    "    plt.legend(loc=\"lower right\")\n",
    "    plt.show()"
   ]
  },
  {
   "cell_type": "code",
   "execution_count": 28,
   "metadata": {},
   "outputs": [],
   "source": [
    "def roc_calcualte(gene_name,Healthy_count,Cancer_count):\n",
    "    #Select biomarker by gene name.\n",
    "    control=Healthy_count.loc[Healthy_count['feature']==gene_name]\n",
    "    cancer=Cancer_count.loc[Cancer_count['feature']==gene_name]\n",
    "\n",
    "    #Remove the name\n",
    "    control2=control.iloc[:,1:control.shape[1]].values\n",
    "    cancer2=cancer.iloc[:,1:cancer.shape[1]].values\n",
    "    Expression2=np.append(control2[0],cancer2[0])\n",
    "\n",
    "    #set class label\n",
    "    control_label=np.repeat(0,control2[0].shape)\n",
    "    cancer_label=np.repeat(1,cancer2[0].shape)\n",
    "\n",
    "    #merge label\n",
    "    Label2=np.append(control_label,cancer_label)\n",
    "\n",
    "    #input data\n",
    "    Expression=np.asarray(Expression2)\n",
    "    Label=np.asarray(Label2)\n",
    "\n",
    "    # set dictory\n",
    "    Fpr = dict()\n",
    "    Tpr = dict()\n",
    "    Roc_auc = dict()\n",
    "\n",
    "    #calculate FPR, TPR and ROC\n",
    "    Fpr[0], Tpr[0], _= roc_curve(Label, Expression)\n",
    "    Roc_auc[0] = auc(Fpr[0], Tpr[0])\n",
    "\n",
    "    #Calculate micro-FPR, micro-TPR and micro-AUC\n",
    "    Fpr[\"micro\"], Tpr[\"micro\"], _ = roc_curve(Label.ravel(), Expression.ravel())\n",
    "    Roc_auc[\"micro\"] = auc(Fpr[\"micro\"], Tpr[\"micro\"])\n",
    "\n",
    "    # Compute macro-average ROC curve and ROC area\n",
    "\n",
    "\n",
    "    # First aggregate all false positive rates\n",
    "    All_Fpr = np.unique(Fpr[0])\n",
    "\n",
    "\n",
    "    # Then interpolate all ROC curves at this points\n",
    "    mean_Tpr = np.zeros_like(All_Fpr)\n",
    "    mean_Tpr += interp(All_Fpr, Fpr[0], Tpr[0])\n",
    "\n",
    "\n",
    "    # Finally average it and compute AUC\n",
    "\n",
    "    Fpr[\"macro\"] = All_Fpr\n",
    "    Tpr[\"macro\"] = mean_Tpr\n",
    "    Roc_auc[\"macro\"] = auc(Fpr[\"macro\"], Tpr[\"macro\"])\n",
    "\n",
    "    if(Roc_auc[0]<0.5):\n",
    "        control_label=np.repeat(1,control2[0].shape)\n",
    "        cancer_label=np.repeat(0,cancer2[0].shape)\n",
    "        Label2=np.append(control_label,cancer_label)\n",
    "        Label=np.asarray(Label2)\n",
    "        # set dictory\n",
    "        Fpr = dict()\n",
    "        Tpr = dict()\n",
    "        Roc_auc = dict()\n",
    "        #calculate FPR, TPR and ROC\n",
    "        Fpr[0], Tpr[0], _= roc_curve(Label, Expression)\n",
    "        Roc_auc[0] = auc(Fpr[0], Tpr[0])\n",
    "        #Calculate micro-FPR, micro-TPR and micro-AUC\n",
    "        Fpr[\"micro\"], Tpr[\"micro\"], _ = roc_curve(Label.ravel(), Expression.ravel())\n",
    "        Roc_auc[\"micro\"] = auc(Fpr[\"micro\"], Tpr[\"micro\"])\n",
    "        # Compute macro-average ROC curve and ROC area\n",
    "        # First aggregate all false positive rates\n",
    "        All_Fpr = np.unique(Fpr[0])\n",
    "        # Then interpolate all ROC curves at this points\n",
    "        mean_Tpr = np.zeros_like(All_Fpr)\n",
    "        mean_Tpr += interp(All_Fpr, Fpr[0], Tpr[0])\n",
    "        # Finally average it and compute AUC\n",
    "        Fpr[\"macro\"] = All_Fpr\n",
    "        Tpr[\"macro\"] = mean_Tpr\n",
    "        Roc_auc[\"macro\"] = auc(Fpr[\"macro\"], Tpr[\"macro\"])\n",
    "    return Roc_auc[0]"
   ]
  },
  {
   "cell_type": "code",
   "execution_count": 29,
   "metadata": {},
   "outputs": [],
   "source": [
    "def roc_calcualte_all(gene_name,Healthy_count,Cancer_count):\n",
    "    #Select biomarker by gene name.\n",
    "    control=Healthy_count.loc[Healthy_count['feature']==gene_name]\n",
    "    cancer=Cancer_count.loc[Cancer_count['feature']==gene_name]\n",
    "\n",
    "    #Remove the name\n",
    "    control2=control.iloc[:,1:control.shape[1]].values\n",
    "    cancer2=cancer.iloc[:,1:cancer.shape[1]].values\n",
    "    Expression2=np.append(control2[0],cancer2[0])\n",
    "\n",
    "    #set class label\n",
    "    control_label=np.repeat(0,control2[0].shape)\n",
    "    cancer_label=np.repeat(1,cancer2[0].shape)\n",
    "\n",
    "    #merge label\n",
    "    Label2=np.append(control_label,cancer_label)\n",
    "\n",
    "    #input data\n",
    "    Expression=np.asarray(Expression2)\n",
    "    Label=np.asarray(Label2)\n",
    "\n",
    "    # set dictory\n",
    "    Fpr = dict()\n",
    "    Tpr = dict()\n",
    "    Roc_auc = dict()\n",
    "\n",
    "    #calculate FPR, TPR and ROC\n",
    "    Fpr[0], Tpr[0], _= roc_curve(Label, Expression)\n",
    "    Roc_auc[0] = auc(Fpr[0], Tpr[0])\n",
    "\n",
    "    #Calculate micro-FPR, micro-TPR and micro-AUC\n",
    "    Fpr[\"micro\"], Tpr[\"micro\"], _ = roc_curve(Label.ravel(), Expression.ravel())\n",
    "    Roc_auc[\"micro\"] = auc(Fpr[\"micro\"], Tpr[\"micro\"])\n",
    "\n",
    "    # Compute macro-average ROC curve and ROC area\n",
    "\n",
    "\n",
    "    # First aggregate all false positive rates\n",
    "    All_Fpr = np.unique(Fpr[0])\n",
    "\n",
    "\n",
    "    # Then interpolate all ROC curves at this points\n",
    "    mean_Tpr = np.zeros_like(All_Fpr)\n",
    "    mean_Tpr += interp(All_Fpr, Fpr[0], Tpr[0])\n",
    "\n",
    "\n",
    "    # Finally average it and compute AUC\n",
    "\n",
    "    Fpr[\"macro\"] = All_Fpr\n",
    "    Tpr[\"macro\"] = mean_Tpr\n",
    "    Roc_auc[\"macro\"] = auc(Fpr[\"macro\"], Tpr[\"macro\"])\n",
    "\n",
    "    if(Roc_auc[0]<0.5):\n",
    "        control_label=np.repeat(1,control2[0].shape)\n",
    "        cancer_label=np.repeat(0,cancer2[0].shape)\n",
    "        Label2=np.append(control_label,cancer_label)\n",
    "        Label=np.asarray(Label2)\n",
    "        # set dictory\n",
    "        Fpr = dict()\n",
    "        Tpr = dict()\n",
    "        Roc_auc = dict()\n",
    "        #calculate FPR, TPR and ROC\n",
    "        Fpr[0], Tpr[0], _= roc_curve(Label, Expression)\n",
    "        Roc_auc[0] = auc(Fpr[0], Tpr[0])\n",
    "        #Calculate micro-FPR, micro-TPR and micro-AUC\n",
    "        Fpr[\"micro\"], Tpr[\"micro\"], _ = roc_curve(Label.ravel(), Expression.ravel())\n",
    "        Roc_auc[\"micro\"] = auc(Fpr[\"micro\"], Tpr[\"micro\"])\n",
    "        # Compute macro-average ROC curve and ROC area\n",
    "        # First aggregate all false positive rates\n",
    "        All_Fpr = np.unique(Fpr[0])\n",
    "        # Then interpolate all ROC curves at this points\n",
    "        mean_Tpr = np.zeros_like(All_Fpr)\n",
    "        mean_Tpr += interp(All_Fpr, Fpr[0], Tpr[0])\n",
    "        # Finally average it and compute AUC\n",
    "        Fpr[\"macro\"] = All_Fpr\n",
    "        Tpr[\"macro\"] = mean_Tpr\n",
    "        Roc_auc[\"macro\"] = auc(Fpr[\"macro\"], Tpr[\"macro\"])\n",
    "    return [ [Roc_auc[0], Fpr[0], Tpr[0]], [ Roc_auc[\"micro\"], Fpr[\"micro\"], Tpr[\"micro\"]],[Roc_auc[\"macro\"],Fpr[\"macro\"],Tpr[\"macro\"]] ]\n"
   ]
  },
  {
   "cell_type": "code",
   "execution_count": 30,
   "metadata": {},
   "outputs": [
    {
     "data": {
      "text/plain": [
       "0    ENSG00000243485.5|lncRNA|MIR1302-2HG|ENSG00000...\n",
       "1    ENSG00000237613.2|lncRNA|FAM138A|ENSG000002376...\n",
       "2    ENSG00000186092.5|mRNA|OR4F5|ENSG00000186092.5...\n",
       "3    ENSG00000238009.6|lncRNA|AL627309.1|ENSG000002...\n",
       "4    ENSG00000239945.1|lncRNA|AL627309.3|ENSG000002...\n",
       "Name: feature, dtype: object"
      ]
     },
     "execution_count": 30,
     "metadata": {},
     "output_type": "execute_result"
    }
   ],
   "source": [
    "names=data_without_gene_norm_complete.iloc[:,0]\n",
    "names.head()"
   ]
  },
  {
   "cell_type": "code",
   "execution_count": null,
   "metadata": {},
   "outputs": [],
   "source": [
    "\n",
    "values={}\n",
    "\n",
    "for x in names:\n",
    "    #print(x)\n",
    "    value=roc_calcualte(x,Healthy_count,PAAD_count)\n",
    "    values[x]=value\n",
    "        "
   ]
  },
  {
   "cell_type": "code",
   "execution_count": 39,
   "metadata": {},
   "outputs": [
    {
     "name": "stderr",
     "output_type": "stream",
     "text": [
      "IOPub data rate exceeded.\n",
      "The notebook server will temporarily stop sending output\n",
      "to the client in order to avoid crashing it.\n",
      "To change this limit, set the config variable\n",
      "`--NotebookApp.iopub_data_rate_limit`.\n",
      "\n",
      "Current values:\n",
      "NotebookApp.iopub_data_rate_limit=1000000.0 (bytes/sec)\n",
      "NotebookApp.rate_limit_window=3.0 (secs)\n",
      "\n"
     ]
    }
   ],
   "source": []
  },
  {
   "cell_type": "code",
   "execution_count": null,
   "metadata": {
    "scrolled": true
   },
   "outputs": [],
   "source": [
    "out=open('roc-data/PAAD-vs-health-longRNA.txt','w')\n",
    "out.write(\"data_source\\tclassification\\tname\\tauc\\tfpr\\ttpr\\tmicro-auc\\tmicro-fpr\\tmicor-tpr\\tmacro-acu\\tmacro-fpr\\tmacro-tpr\\n\")\n",
    "for name in names:\n",
    "    string=roc_calcualte_all(name,Healthy_count,PAAD_count)\n",
    "    array1=name.split('|')\n",
    "    name=array1[0]\n",
    "    name=name.replace('hsa-','')\n",
    "    variable1=np.array2string(string[0][0]).replace('\\n','')\n",
    "    variable1=re.sub('\\s+',\",\",variable1)\n",
    "    variable2=np.array2string(string[0][1]).replace('\\n','')\n",
    "    variable2=re.sub('\\s+',\",\",variable2)\n",
    "    \n",
    "    variable3=np.array2string(string[0][2]).replace('\\n','')\n",
    "    variable3=re.sub('\\s+',\",\",variable3)\n",
    "    \n",
    "    variable4=np.array2string(string[1][0]).replace('\\n','')\n",
    "    variable4=re.sub('\\s+',\",\",variable4)\n",
    "    \n",
    "    variable5=np.array2string(string[1][1]).replace('\\n','')\n",
    "    variable5=re.sub('\\s+',\",\",variable5)\n",
    "    \n",
    "    variable6=np.array2string(string[1][2]).replace('\\n','')\n",
    "    variable6=re.sub('\\s+',\",\",variable6)\n",
    "    \n",
    "    variable7=np.array2string(string[2][0]).replace('\\n','')\n",
    "    variable7=re.sub('\\s+',\",\",variable7)\n",
    "    \n",
    "    variable8=np.array2string(string[2][1]).replace('\\n','')\n",
    "    variable8=re.sub('\\s+',\",\",variable8)\n",
    "    \n",
    "    variable9=np.array2string(string[2][2]).replace('\\n','')\n",
    "    variable9=re.sub('\\s+',\",\",variable9)\n",
    "\n",
    "    out.write(\"26786760\\tPAAD\\t\"+str(name)+\"\\t\"+variable1+\"\\t\"+variable2+\"\\t\"+variable3+\"\\t\"+variable4+\"\\t\"+variable5+\"\\t\"+variable6+\"\\t\"+variable7+\"\\t\"+variable8+\"\\t\"+variable9+\"\\n\")\n",
    "\n",
    "    \n",
    "    \n",
    "    \n"
   ]
  },
  {
   "cell_type": "code",
   "execution_count": 40,
   "metadata": {},
   "outputs": [
    {
     "name": "stdout",
     "output_type": "stream",
     "text": [
      "109440\n"
     ]
    }
   ],
   "source": [
    "print(len(values))"
   ]
  },
  {
   "cell_type": "code",
   "execution_count": 41,
   "metadata": {},
   "outputs": [],
   "source": [
    "values_sorted=sorted(values.items(), key=lambda x: x[1],reverse=True)\n",
    "values_table=pd.DataFrame.from_dict(values_sorted)"
   ]
  },
  {
   "cell_type": "code",
   "execution_count": null,
   "metadata": {},
   "outputs": [],
   "source": []
  },
  {
   "cell_type": "code",
   "execution_count": 42,
   "metadata": {},
   "outputs": [],
   "source": [
    "#print(values_table)\n",
    "values_table.to_csv('healty_vs_PAAD-long.csv',  encoding='utf-8')"
   ]
  },
  {
   "cell_type": "code",
   "execution_count": 43,
   "metadata": {},
   "outputs": [
    {
     "name": "stdout",
     "output_type": "stream",
     "text": [
      "ENSG00000111057.10|mRNA|KRT18|ENSG00000111057.10|ENSG00000111057.10|0|3218 0.9014423076923077\n",
      "ENSG00000117602.11|mRNA|RCAN3|ENSG00000117602.11|ENSG00000117602.11|0|7077 0.8870192307692307\n",
      "ENSG00000184613.10|mRNA|NELL2|ENSG00000184613.10|ENSG00000184613.10|0|6424 0.8870192307692307\n",
      "hsa_circ_0067233|circRNA|hsa_circ_0067233|hsa_circ_0067233|hsa_circ_0067233|0|376 0.8822115384615383\n",
      "ENSG00000182568.16|mRNA|SATB1|ENSG00000182568.16|ENSG00000182568.16|0|13409 0.8798076923076923\n",
      "ENSG00000138795.9|mRNA|LEF1|ENSG00000138795.9|ENSG00000138795.9|0|5361 0.8798076923076923\n",
      "hsa_circ_0036571|circRNA|hsa_circ_0036571|hsa_circ_0036571|hsa_circ_0036571|0|390 0.8798076923076923\n",
      "ENSG00000111640.14|mRNA|GAPDH|ENSG00000111640.14|ENSG00000111640.14|0|2981 0.875\n",
      "ENSG00000283128.1|lncRNA|AC009403.2|ENSG00000283128.1|ENSG00000283128.1|0|5436 0.8725961538461539\n",
      "ENSG00000130635.15|mRNA|COL5A1|ENSG00000130635.15|ENSG00000130635.15|0|11189 0.8701923076923077\n"
     ]
    }
   ],
   "source": [
    "#print(values_table.iloc[1:11,])\n",
    "for i in range(10):\n",
    "    print(values_table.iloc[i,0],values_table.iloc[i,1])"
   ]
  },
  {
   "cell_type": "code",
   "execution_count": 45,
   "metadata": {},
   "outputs": [
    {
     "data": {
      "image/png": "[encoded data removed]",
      "text/plain": [
       "<Figure size 576x576 with 1 Axes>"
      ]
     },
     "metadata": {},
     "output_type": "display_data"
    }
   ],
   "source": [
    "roc_calcualte_plot('ENSG00000111057.10|mRNA|KRT18|ENSG00000111057.10|ENSG00000111057.10|0|3218',Healthy_count,PAAD_count)\n",
    "\n",
    "\n",
    "\n"
   ]
  },
  {
   "cell_type": "code",
   "execution_count": 46,
   "metadata": {},
   "outputs": [
    {
     "data": {
      "image/png": "[encoded data removed]",
      "text/plain": [
       "<Figure size 576x576 with 1 Axes>"
      ]
     },
     "metadata": {},
     "output_type": "display_data"
    }
   ],
   "source": [
    "roc_calcualte_plot('ENSG00000117602.11|mRNA|RCAN3|ENSG00000117602.11|ENSG00000117602.11|0|7077',Healthy_count,PAAD_count)\n",
    "\n",
    "\n"
   ]
  },
  {
   "cell_type": "code",
   "execution_count": 47,
   "metadata": {},
   "outputs": [
    {
     "data": {
      "image/png": "[encoded data removed]",
      "text/plain": [
       "<Figure size 576x576 with 1 Axes>"
      ]
     },
     "metadata": {},
     "output_type": "display_data"
    }
   ],
   "source": [
    "roc_calcualte_plot('ENSG00000184613.10|mRNA|NELL2|ENSG00000184613.10|ENSG00000184613.10|0|6424',Healthy_count,PAAD_count)\n",
    "\n",
    "\n"
   ]
  },
  {
   "cell_type": "code",
   "execution_count": 48,
   "metadata": {},
   "outputs": [
    {
     "data": {
      "image/png": "[encoded data removed]",
      "text/plain": [
       "<Figure size 576x576 with 1 Axes>"
      ]
     },
     "metadata": {},
     "output_type": "display_data"
    }
   ],
   "source": [
    "roc_calcualte_plot('hsa_circ_0067233|circRNA|hsa_circ_0067233|hsa_circ_0067233|hsa_circ_0067233|0|376',Healthy_count,PAAD_count)\n",
    "\n",
    "\n"
   ]
  },
  {
   "cell_type": "markdown",
   "metadata": {},
   "source": [
    "## Read biomaker file"
   ]
  },
  {
   "cell_type": "code",
   "execution_count": null,
   "metadata": {},
   "outputs": [],
   "source": [
    "biomarker=pd.read_table('tmp-data/biomaker-id-CRC-0219.txt',sep=\"\\t\")\n",
    "biomarker_name=biomarker.iloc[:,2].values\n",
    "#print(biomarker_name)\n",
    "biomarker_name_array=[]\n",
    "for i in biomarker_name:\n",
    "    array=i.split(',')\n",
    "    for j in array:\n",
    "        biomarker_name_array.append(j)\n",
    "        \n",
    "#print(biomarker_name_array)  "
   ]
  },
  {
   "cell_type": "markdown",
   "metadata": {},
   "source": [
    "### select biomaker "
   ]
  },
  {
   "cell_type": "code",
   "execution_count": null,
   "metadata": {},
   "outputs": [],
   "source": [
    "#print (values_table)\n",
    "biomarker_auc=values_table.loc[values_table[0].isin(biomarker_name_array)]\n",
    "biomarker_auc_values=biomarker_auc.iloc[:,1].values\n",
    "all_auc_values=values_table.iloc[:,1].values\n",
    "\n",
    "print(biomarker_auc_values,all_auc_values)"
   ]
  },
  {
   "cell_type": "code",
   "execution_count": null,
   "metadata": {},
   "outputs": [],
   "source": [
    "data = [all_auc_values,biomarker_auc_values]\n",
    "\n",
    "fig2, ax2 = plt.subplots()\n",
    "ax2.set_title('AUC of All vs Biomarker in CRC')\n",
    "ax2.boxplot(data, notch=True)\n",
    "#plt.plot(all_auc_values,biomarker_auc_values, linewidth=1, color='k')"
   ]
  },
  {
   "cell_type": "code",
   "execution_count": null,
   "metadata": {},
   "outputs": [],
   "source": []
  }
 ],
 "metadata": {
  "kernelspec": {
   "display_name": "Python 3",
   "language": "python",
   "name": "python3"
  },
  "language_info": {
   "codemirror_mode": {
    "name": "ipython",
    "version": 3
   },
   "file_extension": ".py",
   "mimetype": "text/x-python",
   "name": "python",
   "nbconvert_exporter": "python",
   "pygments_lexer": "ipython3",
   "version": "3.6.7"
  },
  "toc": {
   "base_numbering": 1,
   "nav_menu": {},
   "number_sections": true,
   "sideBar": true,
   "skip_h1_title": false,
   "title_cell": "Table of Contents",
   "title_sidebar": "Contents",
   "toc_cell": false,
   "toc_position": {},
   "toc_section_display": true,
   "toc_window_display": false
  }
 },
 "nbformat": 4,
 "nbformat_minor": 2
}
