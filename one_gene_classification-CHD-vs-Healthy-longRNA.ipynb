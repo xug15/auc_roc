{
 "cells": [
  {
   "cell_type": "markdown",
   "metadata": {},
   "source": [
    "## Load modules."
   ]
  },
  {
   "cell_type": "code",
   "execution_count": 29,
   "metadata": {},
   "outputs": [],
   "source": [
    "#Import module\n",
    "import numpy as np\n",
    "import matplotlib.pyplot as plt\n",
    "import pandas as pd\n",
    "from itertools import cycle\n",
    "\n",
    "from sklearn import svm, datasets\n",
    "from sklearn.metrics import roc_curve, auc\n",
    "from sklearn.model_selection import train_test_split\n",
    "from sklearn.preprocessing import label_binarize\n",
    "from sklearn.multiclass import OneVsRestClassifier\n",
    "from scipy import interp\n",
    "\n",
    "import re"
   ]
  },
  {
   "cell_type": "markdown",
   "metadata": {},
   "source": [
    "## Read gene count table"
   ]
  },
  {
   "cell_type": "code",
   "execution_count": 30,
   "metadata": {},
   "outputs": [
    {
     "name": "stdout",
     "output_type": "stream",
     "text": [
      "<class 'pandas.core.frame.DataFrame'>\n",
      "                                             feature  SRR5679904  SRR5679905  \\\n",
      "0  ENSG00000243485.5|lncRNA|MIR1302-2HG|ENSG00000...           0           0   \n",
      "1  ENSG00000237613.2|lncRNA|FAM138A|ENSG000002376...           0           0   \n",
      "2  ENSG00000186092.5|mRNA|OR4F5|ENSG00000186092.5...           0           0   \n",
      "3  ENSG00000238009.6|lncRNA|AL627309.1|ENSG000002...           1          11   \n",
      "4  ENSG00000239945.1|lncRNA|AL627309.3|ENSG000002...           0           0   \n",
      "\n",
      "   SRR5679906  SRR5679907  SRR5679908  SRR5679909  SRR5687235  SRR5687236  \\\n",
      "0           0           0           0           0           2           0   \n",
      "1           8           0           0           0           0           0   \n",
      "2           0           0           0           0           0           0   \n",
      "3           6           8          10           0          15           1   \n",
      "4           6           0           0           0           4           0   \n",
      "\n",
      "   SRR5687237     ...      SRR5714912  SRR5714913  SRR5714914  SRR5714915  \\\n",
      "0           0     ...               0           0           0           0   \n",
      "1           1     ...               0           0           0           0   \n",
      "2           0     ...               2           0           0           0   \n",
      "3          13     ...               0           2          18           2   \n",
      "4           5     ...               0           0           0           2   \n",
      "\n",
      "   SRR5714916  SRR5714917  SRR5714918  SRR5714919  SRR5714920  SRR5714921  \n",
      "0           0           0           0           0           0           1  \n",
      "1           0           0           0           0           1           1  \n",
      "2           0           0           0           0           0           0  \n",
      "3          27          33           0           0           5           7  \n",
      "4           5           7           0           0           1           3  \n",
      "\n",
      "[5 rows x 86 columns]\n",
      "<class 'pandas.core.frame.DataFrame'>\n",
      "    sample_id    label\n",
      "0  SRR5712482  Healthy\n",
      "1  SRR5712483  Healthy\n",
      "2  SRR5712484  Healthy\n",
      "3  SRR5712485  Healthy\n",
      "4  SRR5712486  Healthy\n"
     ]
    }
   ],
   "source": [
    "data=pd.read_csv('../diff-cancer/machine-classifer/featurecounts-longRNA.txt',sep=\"\\t\")\n",
    "label=pd.read_csv('../diff-cancer/machine-classifer/featurecount_sample_classes-longRNA.txt',sep=\"\\t\")\n",
    "\n",
    "print(type(data))\n",
    "print(data.head())\n",
    "print(type(label))\n",
    "print(label.head())"
   ]
  },
  {
   "cell_type": "code",
   "execution_count": 31,
   "metadata": {},
   "outputs": [
    {
     "name": "stdout",
     "output_type": "stream",
     "text": [
      "['CHD' 'CRC' 'HCC' 'Healthy' 'PAAD']\n"
     ]
    }
   ],
   "source": [
    "#data.iloc[0,0]\n",
    "#d1=data.loc[data['feature']=='hsa-let-7a-2-3p|miRNA|hsa-let-7a-2-3p|hsa-let-7a-2-3p|hsa-let-7a-2-3p|0|22']\n",
    "#\n",
    "d1=data\n",
    "d2=label.iloc[:,1].values\n",
    "d2_unique=np.unique(d2)\n",
    "\n",
    "#type(d2)\n",
    "#print(d2)\n",
    "print(d2_unique)"
   ]
  },
  {
   "cell_type": "markdown",
   "metadata": {},
   "source": [
    "## Normolize by sample with CPM"
   ]
  },
  {
   "cell_type": "code",
   "execution_count": 32,
   "metadata": {},
   "outputs": [
    {
     "data": {
      "text/html": [
       "<div>\n",
       "<style scoped>\n",
       "    .dataframe tbody tr th:only-of-type {\n",
       "        vertical-align: middle;\n",
       "    }\n",
       "\n",
       "    .dataframe tbody tr th {\n",
       "        vertical-align: top;\n",
       "    }\n",
       "\n",
       "    .dataframe thead th {\n",
       "        text-align: right;\n",
       "    }\n",
       "</style>\n",
       "<table border=\"1\" class=\"dataframe\">\n",
       "  <thead>\n",
       "    <tr style=\"text-align: right;\">\n",
       "      <th></th>\n",
       "      <th>feature</th>\n",
       "      <th>SRR5679904</th>\n",
       "      <th>SRR5679905</th>\n",
       "      <th>SRR5679906</th>\n",
       "      <th>SRR5679907</th>\n",
       "      <th>SRR5679908</th>\n",
       "      <th>SRR5679909</th>\n",
       "      <th>SRR5687235</th>\n",
       "      <th>SRR5687236</th>\n",
       "      <th>SRR5687237</th>\n",
       "      <th>...</th>\n",
       "      <th>SRR5714911</th>\n",
       "      <th>SRR5714912</th>\n",
       "      <th>SRR5714913</th>\n",
       "      <th>SRR5714914</th>\n",
       "      <th>SRR5714915</th>\n",
       "      <th>SRR5714916</th>\n",
       "      <th>SRR5714917</th>\n",
       "      <th>SRR5714918</th>\n",
       "      <th>SRR5714919</th>\n",
       "      <th>SRR5714920</th>\n",
       "    </tr>\n",
       "  </thead>\n",
       "  <tbody>\n",
       "    <tr>\n",
       "      <th>0</th>\n",
       "      <td>ENSG00000243485.5|lncRNA|MIR1302-2HG|ENSG00000...</td>\n",
       "      <td>0.000000</td>\n",
       "      <td>0.000000</td>\n",
       "      <td>0.000000</td>\n",
       "      <td>0.000000</td>\n",
       "      <td>0.000000</td>\n",
       "      <td>0.0</td>\n",
       "      <td>0.477332</td>\n",
       "      <td>0.000000</td>\n",
       "      <td>0.000000</td>\n",
       "      <td>...</td>\n",
       "      <td>0.000000</td>\n",
       "      <td>0.000000</td>\n",
       "      <td>0.000000</td>\n",
       "      <td>0.000000</td>\n",
       "      <td>0.000000</td>\n",
       "      <td>0.000000</td>\n",
       "      <td>0.000000</td>\n",
       "      <td>0.0</td>\n",
       "      <td>0.0</td>\n",
       "      <td>0.000000</td>\n",
       "    </tr>\n",
       "    <tr>\n",
       "      <th>1</th>\n",
       "      <td>ENSG00000237613.2|lncRNA|FAM138A|ENSG000002376...</td>\n",
       "      <td>0.000000</td>\n",
       "      <td>0.000000</td>\n",
       "      <td>3.836579</td>\n",
       "      <td>0.000000</td>\n",
       "      <td>0.000000</td>\n",
       "      <td>0.0</td>\n",
       "      <td>0.000000</td>\n",
       "      <td>0.000000</td>\n",
       "      <td>0.142731</td>\n",
       "      <td>...</td>\n",
       "      <td>0.476697</td>\n",
       "      <td>0.000000</td>\n",
       "      <td>0.000000</td>\n",
       "      <td>0.000000</td>\n",
       "      <td>0.000000</td>\n",
       "      <td>0.000000</td>\n",
       "      <td>0.000000</td>\n",
       "      <td>0.0</td>\n",
       "      <td>0.0</td>\n",
       "      <td>0.277733</td>\n",
       "    </tr>\n",
       "    <tr>\n",
       "      <th>2</th>\n",
       "      <td>ENSG00000186092.5|mRNA|OR4F5|ENSG00000186092.5...</td>\n",
       "      <td>0.000000</td>\n",
       "      <td>0.000000</td>\n",
       "      <td>0.000000</td>\n",
       "      <td>0.000000</td>\n",
       "      <td>0.000000</td>\n",
       "      <td>0.0</td>\n",
       "      <td>0.000000</td>\n",
       "      <td>0.000000</td>\n",
       "      <td>0.000000</td>\n",
       "      <td>...</td>\n",
       "      <td>0.000000</td>\n",
       "      <td>1.071889</td>\n",
       "      <td>0.000000</td>\n",
       "      <td>0.000000</td>\n",
       "      <td>0.000000</td>\n",
       "      <td>0.000000</td>\n",
       "      <td>0.000000</td>\n",
       "      <td>0.0</td>\n",
       "      <td>0.0</td>\n",
       "      <td>0.000000</td>\n",
       "    </tr>\n",
       "    <tr>\n",
       "      <th>3</th>\n",
       "      <td>ENSG00000238009.6|lncRNA|AL627309.1|ENSG000002...</td>\n",
       "      <td>0.608422</td>\n",
       "      <td>12.529259</td>\n",
       "      <td>2.877434</td>\n",
       "      <td>6.332275</td>\n",
       "      <td>3.966172</td>\n",
       "      <td>0.0</td>\n",
       "      <td>3.579989</td>\n",
       "      <td>0.289279</td>\n",
       "      <td>1.855506</td>\n",
       "      <td>...</td>\n",
       "      <td>2.383483</td>\n",
       "      <td>0.000000</td>\n",
       "      <td>0.699733</td>\n",
       "      <td>5.832423</td>\n",
       "      <td>0.769242</td>\n",
       "      <td>3.043868</td>\n",
       "      <td>9.988537</td>\n",
       "      <td>0.0</td>\n",
       "      <td>0.0</td>\n",
       "      <td>1.388664</td>\n",
       "    </tr>\n",
       "    <tr>\n",
       "      <th>4</th>\n",
       "      <td>ENSG00000239945.1|lncRNA|AL627309.3|ENSG000002...</td>\n",
       "      <td>0.000000</td>\n",
       "      <td>0.000000</td>\n",
       "      <td>2.877434</td>\n",
       "      <td>0.000000</td>\n",
       "      <td>0.000000</td>\n",
       "      <td>0.0</td>\n",
       "      <td>0.954664</td>\n",
       "      <td>0.000000</td>\n",
       "      <td>0.713656</td>\n",
       "      <td>...</td>\n",
       "      <td>0.476697</td>\n",
       "      <td>0.000000</td>\n",
       "      <td>0.000000</td>\n",
       "      <td>0.000000</td>\n",
       "      <td>0.769242</td>\n",
       "      <td>0.563679</td>\n",
       "      <td>2.118781</td>\n",
       "      <td>0.0</td>\n",
       "      <td>0.0</td>\n",
       "      <td>0.277733</td>\n",
       "    </tr>\n",
       "  </tbody>\n",
       "</table>\n",
       "<p>5 rows × 85 columns</p>\n",
       "</div>"
      ],
      "text/plain": [
       "                                             feature  SRR5679904  SRR5679905  \\\n",
       "0  ENSG00000243485.5|lncRNA|MIR1302-2HG|ENSG00000...    0.000000    0.000000   \n",
       "1  ENSG00000237613.2|lncRNA|FAM138A|ENSG000002376...    0.000000    0.000000   \n",
       "2  ENSG00000186092.5|mRNA|OR4F5|ENSG00000186092.5...    0.000000    0.000000   \n",
       "3  ENSG00000238009.6|lncRNA|AL627309.1|ENSG000002...    0.608422   12.529259   \n",
       "4  ENSG00000239945.1|lncRNA|AL627309.3|ENSG000002...    0.000000    0.000000   \n",
       "\n",
       "   SRR5679906  SRR5679907  SRR5679908  SRR5679909  SRR5687235  SRR5687236  \\\n",
       "0    0.000000    0.000000    0.000000         0.0    0.477332    0.000000   \n",
       "1    3.836579    0.000000    0.000000         0.0    0.000000    0.000000   \n",
       "2    0.000000    0.000000    0.000000         0.0    0.000000    0.000000   \n",
       "3    2.877434    6.332275    3.966172         0.0    3.579989    0.289279   \n",
       "4    2.877434    0.000000    0.000000         0.0    0.954664    0.000000   \n",
       "\n",
       "   SRR5687237     ...      SRR5714911  SRR5714912  SRR5714913  SRR5714914  \\\n",
       "0    0.000000     ...        0.000000    0.000000    0.000000    0.000000   \n",
       "1    0.142731     ...        0.476697    0.000000    0.000000    0.000000   \n",
       "2    0.000000     ...        0.000000    1.071889    0.000000    0.000000   \n",
       "3    1.855506     ...        2.383483    0.000000    0.699733    5.832423   \n",
       "4    0.713656     ...        0.476697    0.000000    0.000000    0.000000   \n",
       "\n",
       "   SRR5714915  SRR5714916  SRR5714917  SRR5714918  SRR5714919  SRR5714920  \n",
       "0    0.000000    0.000000    0.000000         0.0         0.0    0.000000  \n",
       "1    0.000000    0.000000    0.000000         0.0         0.0    0.277733  \n",
       "2    0.000000    0.000000    0.000000         0.0         0.0    0.000000  \n",
       "3    0.769242    3.043868    9.988537         0.0         0.0    1.388664  \n",
       "4    0.769242    0.563679    2.118781         0.0         0.0    0.277733  \n",
       "\n",
       "[5 rows x 85 columns]"
      ]
     },
     "execution_count": 32,
     "metadata": {},
     "output_type": "execute_result"
    }
   ],
   "source": [
    "#get dataframe shape\n",
    "shape=data.shape\n",
    "\n",
    "#divide gene counts and gene name\n",
    "data_without_gene=data.iloc[:,1:shape[1]-1]\n",
    "data_name=data.iloc[:,0]\n",
    "\n",
    "#\n",
    "#data_without_gene\n",
    "#Sum each columns.\n",
    "data_without_gene_sum=data_without_gene.sum()\n",
    "\n",
    "#Calculate scale factor with cpm.\n",
    "data_without_gene_sum_scale=data_without_gene_sum/1000000\n",
    "data_without_gene_sum_scale=data_without_gene_sum_scale.values\n",
    "data_without_gene_sum_scale\n",
    "\n",
    "#Normolization gene counts with scale factor\n",
    "data_without_gene_norm=data_without_gene/data_without_gene_sum_scale\n",
    "\n",
    "#merge data frame\n",
    "data_without_gene_norm_complete=pd.concat([data_name,data_without_gene_norm],axis=1)\n",
    "data_without_gene_norm_complete.head()\n"
   ]
  },
  {
   "cell_type": "markdown",
   "metadata": {},
   "source": [
    "## Label and Counts"
   ]
  },
  {
   "cell_type": "code",
   "execution_count": 33,
   "metadata": {},
   "outputs": [
    {
     "name": "stdout",
     "output_type": "stream",
     "text": [
      "['CHD' 'CRC' 'HCC' 'Healthy' 'PAAD']\n"
     ]
    }
   ],
   "source": [
    "print(d2_unique)"
   ]
  },
  {
   "cell_type": "code",
   "execution_count": 34,
   "metadata": {},
   "outputs": [
    {
     "name": "stdout",
     "output_type": "stream",
     "text": [
      "['Healthy' 'HCC' 'CRC' 'CHD' 'PAAD']\n",
      "['feature' 'SRR5679904' 'SRR5679905' 'SRR5679906' 'SRR5679907'\n",
      " 'SRR5679908' 'SRR5679909']\n",
      "['feature' 'SRR5687235' 'SRR5687236' 'SRR5687237' 'SRR5687238'\n",
      " 'SRR5687239' 'SRR5687240' 'SRR5687241' 'SRR5687242' 'SRR5687243'\n",
      " 'SRR5687244' 'SRR5687245' 'SRR5687246']\n",
      "['feature' 'SRR5712516' 'SRR5712517' 'SRR5712518' 'SRR5712519'\n",
      " 'SRR5712520' 'SRR5712521' 'SRR5712522' 'SRR5712523' 'SRR5712524'\n",
      " 'SRR5712525' 'SRR5712526' 'SRR5712527' 'SRR5712528' 'SRR5712529'\n",
      " 'SRR5712530' 'SRR5712531' 'SRR5712532' 'SRR5712533' 'SRR5712534'\n",
      " 'SRR5712535' 'SRR5712536']\n",
      "['feature' 'SRR5712482' 'SRR5712483' 'SRR5712484' 'SRR5712485'\n",
      " 'SRR5712486' 'SRR5712487' 'SRR5712488' 'SRR5712489' 'SRR5712490'\n",
      " 'SRR5712491' 'SRR5712492' 'SRR5712493' 'SRR5712494' 'SRR5712495'\n",
      " 'SRR5712496' 'SRR5712497' 'SRR5712498' 'SRR5712499' 'SRR5712500'\n",
      " 'SRR5712501' 'SRR5712502' 'SRR5712503' 'SRR5712504' 'SRR5712505'\n",
      " 'SRR5712506' 'SRR5712507' 'SRR5712508' 'SRR5712509' 'SRR5712510'\n",
      " 'SRR5712511' 'SRR5712512' 'SRR5712513']\n",
      "['feature' 'SRR5714908' 'SRR5714909' 'SRR5714910' 'SRR5714911'\n",
      " 'SRR5714912' 'SRR5714913' 'SRR5714914' 'SRR5714915' 'SRR5714916'\n",
      " 'SRR5714917' 'SRR5714918' 'SRR5714919' 'SRR5714920' 'SRR5714921']\n"
     ]
    }
   ],
   "source": [
    "# Get label class.\n",
    "label_class=label['label'].unique()\n",
    "print(label_class)\n",
    "\n",
    "def get_label_class_by_name(name):\n",
    "    label_healthy=label.loc[label['label']==name]\n",
    "    healthy=label_healthy.iloc[:,0].values\n",
    "    healthy2=np.append(['feature'],healthy)\n",
    "    return healthy2\n",
    "\n",
    "#Get CHD\n",
    "CHD2=get_label_class_by_name('CHD')\n",
    "print(CHD2)\n",
    "\n",
    "#Get CRC\n",
    "CRC2=get_label_class_by_name('CRC')\n",
    "print(CRC2)\n",
    "\n",
    "#Get HCC\n",
    "HCC2=get_label_class_by_name('HCC')\n",
    "print(HCC2)\n",
    "\n",
    "#Get healty class    \n",
    "Healthy2=get_label_class_by_name('Healthy')\n",
    "print (Healthy2)\n",
    "\n",
    "#Get PAAD\n",
    "PAAD2=get_label_class_by_name('PAAD')\n",
    "print(PAAD2)\n",
    "\n"
   ]
  },
  {
   "cell_type": "code",
   "execution_count": 35,
   "metadata": {},
   "outputs": [
    {
     "name": "stdout",
     "output_type": "stream",
     "text": [
      "['feature' 'SRR5714908' 'SRR5714909' 'SRR5714910' 'SRR5714911'\n",
      " 'SRR5714912' 'SRR5714913' 'SRR5714914' 'SRR5714915' 'SRR5714916'\n",
      " 'SRR5714917' 'SRR5714918' 'SRR5714919' 'SRR5714920' 'SRR5714921']\n"
     ]
    },
    {
     "data": {
      "text/html": [
       "<div>\n",
       "<style scoped>\n",
       "    .dataframe tbody tr th:only-of-type {\n",
       "        vertical-align: middle;\n",
       "    }\n",
       "\n",
       "    .dataframe tbody tr th {\n",
       "        vertical-align: top;\n",
       "    }\n",
       "\n",
       "    .dataframe thead th {\n",
       "        text-align: right;\n",
       "    }\n",
       "</style>\n",
       "<table border=\"1\" class=\"dataframe\">\n",
       "  <thead>\n",
       "    <tr style=\"text-align: right;\">\n",
       "      <th></th>\n",
       "      <th>sample_id</th>\n",
       "      <th>label</th>\n",
       "    </tr>\n",
       "  </thead>\n",
       "  <tbody>\n",
       "    <tr>\n",
       "      <th>71</th>\n",
       "      <td>SRR5714908</td>\n",
       "      <td>PAAD</td>\n",
       "    </tr>\n",
       "    <tr>\n",
       "      <th>72</th>\n",
       "      <td>SRR5714909</td>\n",
       "      <td>PAAD</td>\n",
       "    </tr>\n",
       "    <tr>\n",
       "      <th>73</th>\n",
       "      <td>SRR5714910</td>\n",
       "      <td>PAAD</td>\n",
       "    </tr>\n",
       "    <tr>\n",
       "      <th>74</th>\n",
       "      <td>SRR5714911</td>\n",
       "      <td>PAAD</td>\n",
       "    </tr>\n",
       "    <tr>\n",
       "      <th>75</th>\n",
       "      <td>SRR5714912</td>\n",
       "      <td>PAAD</td>\n",
       "    </tr>\n",
       "    <tr>\n",
       "      <th>76</th>\n",
       "      <td>SRR5714913</td>\n",
       "      <td>PAAD</td>\n",
       "    </tr>\n",
       "    <tr>\n",
       "      <th>77</th>\n",
       "      <td>SRR5714914</td>\n",
       "      <td>PAAD</td>\n",
       "    </tr>\n",
       "    <tr>\n",
       "      <th>78</th>\n",
       "      <td>SRR5714915</td>\n",
       "      <td>PAAD</td>\n",
       "    </tr>\n",
       "    <tr>\n",
       "      <th>79</th>\n",
       "      <td>SRR5714916</td>\n",
       "      <td>PAAD</td>\n",
       "    </tr>\n",
       "    <tr>\n",
       "      <th>80</th>\n",
       "      <td>SRR5714917</td>\n",
       "      <td>PAAD</td>\n",
       "    </tr>\n",
       "    <tr>\n",
       "      <th>81</th>\n",
       "      <td>SRR5714918</td>\n",
       "      <td>PAAD</td>\n",
       "    </tr>\n",
       "    <tr>\n",
       "      <th>82</th>\n",
       "      <td>SRR5714919</td>\n",
       "      <td>PAAD</td>\n",
       "    </tr>\n",
       "    <tr>\n",
       "      <th>83</th>\n",
       "      <td>SRR5714920</td>\n",
       "      <td>PAAD</td>\n",
       "    </tr>\n",
       "    <tr>\n",
       "      <th>84</th>\n",
       "      <td>SRR5714921</td>\n",
       "      <td>PAAD</td>\n",
       "    </tr>\n",
       "  </tbody>\n",
       "</table>\n",
       "</div>"
      ],
      "text/plain": [
       "     sample_id label\n",
       "71  SRR5714908  PAAD\n",
       "72  SRR5714909  PAAD\n",
       "73  SRR5714910  PAAD\n",
       "74  SRR5714911  PAAD\n",
       "75  SRR5714912  PAAD\n",
       "76  SRR5714913  PAAD\n",
       "77  SRR5714914  PAAD\n",
       "78  SRR5714915  PAAD\n",
       "79  SRR5714916  PAAD\n",
       "80  SRR5714917  PAAD\n",
       "81  SRR5714918  PAAD\n",
       "82  SRR5714919  PAAD\n",
       "83  SRR5714920  PAAD\n",
       "84  SRR5714921  PAAD"
      ]
     },
     "execution_count": 35,
     "metadata": {},
     "output_type": "execute_result"
    }
   ],
   "source": [
    "print(PAAD2)\n",
    "label.loc[label['label']=='PAAD']"
   ]
  },
  {
   "cell_type": "markdown",
   "metadata": {},
   "source": [
    "## Generate arrays: expression and label."
   ]
  },
  {
   "cell_type": "code",
   "execution_count": 36,
   "metadata": {},
   "outputs": [],
   "source": [
    "healty_count=data_without_gene_norm_complete[Healthy2]\n",
    "\n",
    "CHD_count=data_without_gene_norm_complete[CHD2]\n",
    "CRC_count=data_without_gene_norm_complete[CRC2]\n",
    "HCC_count=data_without_gene_norm_complete[HCC2]\n",
    "Healthy_count=data_without_gene_norm_complete[Healthy2]\n",
    "\n",
    "PAAD_count=data_without_gene_norm_complete[PAAD2[:-1]]\n",
    "\n",
    "\n"
   ]
  },
  {
   "cell_type": "code",
   "execution_count": 37,
   "metadata": {},
   "outputs": [
    {
     "name": "stdout",
     "output_type": "stream",
     "text": [
      "                                             feature  SRR5687235  SRR5687236  \\\n",
      "0  ENSG00000243485.5|lncRNA|MIR1302-2HG|ENSG00000...    0.477332    0.000000   \n",
      "1  ENSG00000237613.2|lncRNA|FAM138A|ENSG000002376...    0.000000    0.000000   \n",
      "2  ENSG00000186092.5|mRNA|OR4F5|ENSG00000186092.5...    0.000000    0.000000   \n",
      "3  ENSG00000238009.6|lncRNA|AL627309.1|ENSG000002...    3.579989    0.289279   \n",
      "4  ENSG00000239945.1|lncRNA|AL627309.3|ENSG000002...    0.954664    0.000000   \n",
      "\n",
      "   SRR5687237  SRR5687238  SRR5687239  SRR5687240  SRR5687241  SRR5687242  \\\n",
      "0    0.000000    0.000000    0.000000    0.000000    0.000000    0.000000   \n",
      "1    0.142731    0.000000    0.000000    0.000000    0.000000    0.000000   \n",
      "2    0.000000    0.000000    0.000000    0.000000    0.000000    0.000000   \n",
      "3    1.855506    1.331082    0.930869    2.344504    2.294044    1.461432   \n",
      "4    0.713656    0.221847    0.620580    0.586126    0.983162    0.243572   \n",
      "\n",
      "   SRR5687243  SRR5687244  SRR5687245  SRR5687246  \n",
      "0    0.490167    0.000000    0.000000    0.000000  \n",
      "1    0.000000    0.000000    0.000000    0.000000  \n",
      "2    0.000000    0.000000    0.000000    0.000000  \n",
      "3    1.960666    0.638331    2.696651    6.121353  \n",
      "4    0.245083    0.159583    1.011244    1.477568  \n",
      "ENSG00000239945.1|lncRNA|AL627309.3|ENSG00000239945.1|ENSG00000239945.1|0|1319\n",
      "<class 'pandas.core.frame.DataFrame'>\n"
     ]
    },
    {
     "data": {
      "text/plain": [
       "(109440, 7)"
      ]
     },
     "execution_count": 37,
     "metadata": {},
     "output_type": "execute_result"
    }
   ],
   "source": [
    "print(CRC_count.head())\n",
    "print(CRC_count.iloc[4,0])\n",
    "print(type(CHD_count))\n",
    "CHD_count.shape"
   ]
  },
  {
   "cell_type": "markdown",
   "metadata": {},
   "source": [
    "## Select one gene to plot auc."
   ]
  },
  {
   "cell_type": "code",
   "execution_count": 38,
   "metadata": {},
   "outputs": [
    {
     "data": {
      "text/plain": [
       "[[0.7213541666666667,\n",
       "  array([0.        , 0.        , 0.16666667, 0.16666667, 1.        ]),\n",
       "  array([0.     , 0.03125, 0.03125, 0.71875, 1.     ])],\n",
       " [0.7213541666666667,\n",
       "  array([0.        , 0.        , 0.16666667, 0.16666667, 1.        ]),\n",
       "  array([0.     , 0.03125, 0.03125, 0.71875, 1.     ])],\n",
       " [0.7786458333333334,\n",
       "  array([0.        , 0.16666667, 1.        ]),\n",
       "  array([0.03125, 0.71875, 1.     ])]]"
      ]
     },
     "execution_count": 38,
     "metadata": {},
     "output_type": "execute_result"
    }
   ],
   "source": [
    "gene_name='ENSG00000239945.1|lncRNA|AL627309.3|ENSG00000239945.1|ENSG00000239945.1|0|1319'\n",
    "roc_calcualte_all(gene_name,Healthy_count,CHD_count)"
   ]
  },
  {
   "cell_type": "code",
   "execution_count": 39,
   "metadata": {},
   "outputs": [],
   "source": [
    "def roc_calcualte_plot(gene_name,Healthy_count,Cancer_count):\n",
    "    #Select biomarker by gene name.\n",
    "    \n",
    "    control=Healthy_count.loc[Healthy_count['feature']==gene_name]\n",
    "    cancer=Cancer_count.loc[Cancer_count['feature']==gene_name]\n",
    "\n",
    "    #Remove the name\n",
    "    control2=control.iloc[:,1:control.shape[1]].values\n",
    "    cancer2=cancer.iloc[:,1:cancer.shape[1]].values\n",
    "    Expression2=np.append(control2[0],cancer2[0])\n",
    "\n",
    "    #set class label\n",
    "    control_label=np.repeat(0,control2[0].shape)\n",
    "    cancer_label=np.repeat(1,cancer2[0].shape)\n",
    "\n",
    "    #merge label\n",
    "    Label2=np.append(control_label,cancer_label)\n",
    "\n",
    "    #input data\n",
    "    Expression=np.asarray(Expression2)\n",
    "    Label=np.asarray(Label2)\n",
    "\n",
    "    # set dictory\n",
    "    Fpr = dict()\n",
    "    Tpr = dict()\n",
    "    Roc_auc = dict()\n",
    "\n",
    "    #calculate FPR, TPR and ROC\n",
    "    Fpr[0], Tpr[0], _= roc_curve(Label, Expression)\n",
    "    Roc_auc[0] = auc(Fpr[0], Tpr[0])\n",
    "\n",
    "    #Calculate micro-FPR, micro-TPR and micro-AUC\n",
    "    Fpr[\"micro\"], Tpr[\"micro\"], _ = roc_curve(Label.ravel(), Expression.ravel())\n",
    "    Roc_auc[\"micro\"] = auc(Fpr[\"micro\"], Tpr[\"micro\"])\n",
    "\n",
    "    # Compute macro-average ROC curve and ROC area\n",
    "\n",
    "\n",
    "    # First aggregate all false positive rates\n",
    "    All_Fpr = np.unique(Fpr[0])\n",
    "\n",
    "\n",
    "    # Then interpolate all ROC curves at this points\n",
    "    mean_Tpr = np.zeros_like(All_Fpr)\n",
    "    mean_Tpr += interp(All_Fpr, Fpr[0], Tpr[0])\n",
    "\n",
    "\n",
    "    # Finally average it and compute AUC\n",
    "\n",
    "    Fpr[\"macro\"] = All_Fpr\n",
    "    Tpr[\"macro\"] = mean_Tpr\n",
    "    Roc_auc[\"macro\"] = auc(Fpr[\"macro\"], Tpr[\"macro\"])\n",
    "\n",
    "    if(Roc_auc[0]<0.5):\n",
    "        control_label=np.repeat(1,control2[0].shape)\n",
    "        cancer_label=np.repeat(0,cancer2[0].shape)\n",
    "        Label2=np.append(control_label,cancer_label)\n",
    "        Label=np.asarray(Label2)\n",
    "        # set dictory\n",
    "        Fpr = dict()\n",
    "        Tpr = dict()\n",
    "        Roc_auc = dict()\n",
    "        #calculate FPR, TPR and ROC\n",
    "        Fpr[0], Tpr[0], _= roc_curve(Label, Expression)\n",
    "        Roc_auc[0] = auc(Fpr[0], Tpr[0])\n",
    "        #Calculate micro-FPR, micro-TPR and micro-AUC\n",
    "        Fpr[\"micro\"], Tpr[\"micro\"], _ = roc_curve(Label.ravel(), Expression.ravel())\n",
    "        Roc_auc[\"micro\"] = auc(Fpr[\"micro\"], Tpr[\"micro\"])\n",
    "        # Compute macro-average ROC curve and ROC area\n",
    "        # First aggregate all false positive rates\n",
    "        All_Fpr = np.unique(Fpr[0])\n",
    "        # Then interpolate all ROC curves at this points\n",
    "        mean_Tpr = np.zeros_like(All_Fpr)\n",
    "        mean_Tpr += interp(All_Fpr, Fpr[0], Tpr[0])\n",
    "        # Finally average it and compute AUC\n",
    "        Fpr[\"macro\"] = All_Fpr\n",
    "        Tpr[\"macro\"] = mean_Tpr\n",
    "        Roc_auc[\"macro\"] = auc(Fpr[\"macro\"], Tpr[\"macro\"])\n",
    "        \n",
    "    names_plt=gene_name.split('|')\n",
    "\n",
    "    # Plot all ROC curves\n",
    "    color='cornflowerblue'\n",
    "    lw=2\n",
    "    plt.figure(figsize=(8, 8))\n",
    "    plt.plot(Fpr[\"micro\"], Tpr[\"micro\"],\n",
    "             label='micro-average ROC curve (area = {0:0.2f})'\n",
    "                   ''.format(Roc_auc[\"micro\"]),\n",
    "             color='deeppink', linestyle=':', linewidth=4)\n",
    "\n",
    "    plt.plot(Fpr[\"macro\"], Tpr[\"macro\"],\n",
    "             label='macro-average ROC curve (area = {0:0.2f})'\n",
    "                   ''.format(Roc_auc[\"macro\"]),\n",
    "             color='navy', linestyle=':', linewidth=4)\n",
    "\n",
    "    colors = cycle(['aqua', 'darkorange', 'cornflowerblue'])\n",
    "\n",
    "\n",
    "    plt.plot(Fpr[0], Tpr[0], color=color, lw=lw,\n",
    "        label='ROC curve of class (area = {1:0.2f})'\n",
    "        ''.format(0, Roc_auc[0]))\n",
    "\n",
    "    plt.plot([0, 1], [0, 1], 'k--', lw=lw)\n",
    "    plt.xlim([0.0, 1.0])\n",
    "    plt.ylim([0.0, 1.05])\n",
    "    plt.xlabel('False Positive Rate')\n",
    "    plt.ylabel('True Positive Rate')\n",
    "    plt.title(names_plt[0]+' Receiver operating characteristic')\n",
    "    plt.legend(loc=\"lower right\")\n",
    "    plt.show()"
   ]
  },
  {
   "cell_type": "code",
   "execution_count": 40,
   "metadata": {},
   "outputs": [],
   "source": [
    "def roc_calcualte(gene_name,Healthy_count,Cancer_count):\n",
    "    #Select biomarker by gene name.\n",
    "    control=Healthy_count.loc[Healthy_count['feature']==gene_name]\n",
    "    cancer=Cancer_count.loc[Cancer_count['feature']==gene_name]\n",
    "\n",
    "    #Remove the name\n",
    "    control2=control.iloc[:,1:control.shape[1]].values\n",
    "    cancer2=cancer.iloc[:,1:cancer.shape[1]].values\n",
    "    Expression2=np.append(control2[0],cancer2[0])\n",
    "\n",
    "    #set class label\n",
    "    control_label=np.repeat(0,control2[0].shape)\n",
    "    cancer_label=np.repeat(1,cancer2[0].shape)\n",
    "\n",
    "    #merge label\n",
    "    Label2=np.append(control_label,cancer_label)\n",
    "\n",
    "    #input data\n",
    "    Expression=np.asarray(Expression2)\n",
    "    Label=np.asarray(Label2)\n",
    "\n",
    "    # set dictory\n",
    "    Fpr = dict()\n",
    "    Tpr = dict()\n",
    "    Roc_auc = dict()\n",
    "\n",
    "    #calculate FPR, TPR and ROC\n",
    "    Fpr[0], Tpr[0], _= roc_curve(Label, Expression)\n",
    "    Roc_auc[0] = auc(Fpr[0], Tpr[0])\n",
    "\n",
    "    #Calculate micro-FPR, micro-TPR and micro-AUC\n",
    "    Fpr[\"micro\"], Tpr[\"micro\"], _ = roc_curve(Label.ravel(), Expression.ravel())\n",
    "    Roc_auc[\"micro\"] = auc(Fpr[\"micro\"], Tpr[\"micro\"])\n",
    "\n",
    "    # Compute macro-average ROC curve and ROC area\n",
    "\n",
    "\n",
    "    # First aggregate all false positive rates\n",
    "    All_Fpr = np.unique(Fpr[0])\n",
    "\n",
    "\n",
    "    # Then interpolate all ROC curves at this points\n",
    "    mean_Tpr = np.zeros_like(All_Fpr)\n",
    "    mean_Tpr += interp(All_Fpr, Fpr[0], Tpr[0])\n",
    "\n",
    "\n",
    "    # Finally average it and compute AUC\n",
    "\n",
    "    Fpr[\"macro\"] = All_Fpr\n",
    "    Tpr[\"macro\"] = mean_Tpr\n",
    "    Roc_auc[\"macro\"] = auc(Fpr[\"macro\"], Tpr[\"macro\"])\n",
    "\n",
    "    if(Roc_auc[0]<0.5):\n",
    "        control_label=np.repeat(1,control2[0].shape)\n",
    "        cancer_label=np.repeat(0,cancer2[0].shape)\n",
    "        Label2=np.append(control_label,cancer_label)\n",
    "        Label=np.asarray(Label2)\n",
    "        # set dictory\n",
    "        Fpr = dict()\n",
    "        Tpr = dict()\n",
    "        Roc_auc = dict()\n",
    "        #calculate FPR, TPR and ROC\n",
    "        Fpr[0], Tpr[0], _= roc_curve(Label, Expression)\n",
    "        Roc_auc[0] = auc(Fpr[0], Tpr[0])\n",
    "        #Calculate micro-FPR, micro-TPR and micro-AUC\n",
    "        Fpr[\"micro\"], Tpr[\"micro\"], _ = roc_curve(Label.ravel(), Expression.ravel())\n",
    "        Roc_auc[\"micro\"] = auc(Fpr[\"micro\"], Tpr[\"micro\"])\n",
    "        # Compute macro-average ROC curve and ROC area\n",
    "        # First aggregate all false positive rates\n",
    "        All_Fpr = np.unique(Fpr[0])\n",
    "        # Then interpolate all ROC curves at this points\n",
    "        mean_Tpr = np.zeros_like(All_Fpr)\n",
    "        mean_Tpr += interp(All_Fpr, Fpr[0], Tpr[0])\n",
    "        # Finally average it and compute AUC\n",
    "        Fpr[\"macro\"] = All_Fpr\n",
    "        Tpr[\"macro\"] = mean_Tpr\n",
    "        Roc_auc[\"macro\"] = auc(Fpr[\"macro\"], Tpr[\"macro\"])\n",
    "    return Roc_auc[0]"
   ]
  },
  {
   "cell_type": "code",
   "execution_count": 41,
   "metadata": {},
   "outputs": [],
   "source": [
    "def roc_calcualte_all(gene_name,Healthy_count,Cancer_count):\n",
    "    #Select biomarker by gene name.\n",
    "    control=Healthy_count.loc[Healthy_count['feature']==gene_name]\n",
    "    cancer=Cancer_count.loc[Cancer_count['feature']==gene_name]\n",
    "\n",
    "    #Remove the name\n",
    "    control2=control.iloc[:,1:control.shape[1]].values\n",
    "    cancer2=cancer.iloc[:,1:cancer.shape[1]].values\n",
    "    Expression2=np.append(control2[0],cancer2[0])\n",
    "\n",
    "    #set class label\n",
    "    control_label=np.repeat(0,control2[0].shape)\n",
    "    cancer_label=np.repeat(1,cancer2[0].shape)\n",
    "\n",
    "    #merge label\n",
    "    Label2=np.append(control_label,cancer_label)\n",
    "\n",
    "    #input data\n",
    "    Expression=np.asarray(Expression2)\n",
    "    Label=np.asarray(Label2)\n",
    "\n",
    "    # set dictory\n",
    "    Fpr = dict()\n",
    "    Tpr = dict()\n",
    "    Roc_auc = dict()\n",
    "\n",
    "    #calculate FPR, TPR and ROC\n",
    "    Fpr[0], Tpr[0], _= roc_curve(Label, Expression)\n",
    "    Roc_auc[0] = auc(Fpr[0], Tpr[0])\n",
    "\n",
    "    #Calculate micro-FPR, micro-TPR and micro-AUC\n",
    "    Fpr[\"micro\"], Tpr[\"micro\"], _ = roc_curve(Label.ravel(), Expression.ravel())\n",
    "    Roc_auc[\"micro\"] = auc(Fpr[\"micro\"], Tpr[\"micro\"])\n",
    "\n",
    "    # Compute macro-average ROC curve and ROC area\n",
    "\n",
    "\n",
    "    # First aggregate all false positive rates\n",
    "    All_Fpr = np.unique(Fpr[0])\n",
    "\n",
    "\n",
    "    # Then interpolate all ROC curves at this points\n",
    "    mean_Tpr = np.zeros_like(All_Fpr)\n",
    "    mean_Tpr += interp(All_Fpr, Fpr[0], Tpr[0])\n",
    "\n",
    "\n",
    "    # Finally average it and compute AUC\n",
    "\n",
    "    Fpr[\"macro\"] = All_Fpr\n",
    "    Tpr[\"macro\"] = mean_Tpr\n",
    "    Roc_auc[\"macro\"] = auc(Fpr[\"macro\"], Tpr[\"macro\"])\n",
    "\n",
    "    if(Roc_auc[0]<0.5):\n",
    "        control_label=np.repeat(1,control2[0].shape)\n",
    "        cancer_label=np.repeat(0,cancer2[0].shape)\n",
    "        Label2=np.append(control_label,cancer_label)\n",
    "        Label=np.asarray(Label2)\n",
    "        # set dictory\n",
    "        Fpr = dict()\n",
    "        Tpr = dict()\n",
    "        Roc_auc = dict()\n",
    "        #calculate FPR, TPR and ROC\n",
    "        Fpr[0], Tpr[0], _= roc_curve(Label, Expression)\n",
    "        Roc_auc[0] = auc(Fpr[0], Tpr[0])\n",
    "        #Calculate micro-FPR, micro-TPR and micro-AUC\n",
    "        Fpr[\"micro\"], Tpr[\"micro\"], _ = roc_curve(Label.ravel(), Expression.ravel())\n",
    "        Roc_auc[\"micro\"] = auc(Fpr[\"micro\"], Tpr[\"micro\"])\n",
    "        # Compute macro-average ROC curve and ROC area\n",
    "        # First aggregate all false positive rates\n",
    "        All_Fpr = np.unique(Fpr[0])\n",
    "        # Then interpolate all ROC curves at this points\n",
    "        mean_Tpr = np.zeros_like(All_Fpr)\n",
    "        mean_Tpr += interp(All_Fpr, Fpr[0], Tpr[0])\n",
    "        # Finally average it and compute AUC\n",
    "        Fpr[\"macro\"] = All_Fpr\n",
    "        Tpr[\"macro\"] = mean_Tpr\n",
    "        Roc_auc[\"macro\"] = auc(Fpr[\"macro\"], Tpr[\"macro\"])\n",
    "    return [ [Roc_auc[0], Fpr[0], Tpr[0]], [ Roc_auc[\"micro\"], Fpr[\"micro\"], Tpr[\"micro\"]],[Roc_auc[\"macro\"],Fpr[\"macro\"],Tpr[\"macro\"]] ]\n"
   ]
  },
  {
   "cell_type": "code",
   "execution_count": 42,
   "metadata": {},
   "outputs": [
    {
     "data": {
      "text/plain": [
       "0    ENSG00000243485.5|lncRNA|MIR1302-2HG|ENSG00000...\n",
       "1    ENSG00000237613.2|lncRNA|FAM138A|ENSG000002376...\n",
       "2    ENSG00000186092.5|mRNA|OR4F5|ENSG00000186092.5...\n",
       "3    ENSG00000238009.6|lncRNA|AL627309.1|ENSG000002...\n",
       "4    ENSG00000239945.1|lncRNA|AL627309.3|ENSG000002...\n",
       "Name: feature, dtype: object"
      ]
     },
     "execution_count": 42,
     "metadata": {},
     "output_type": "execute_result"
    }
   ],
   "source": [
    "names=data_without_gene_norm_complete.iloc[:,0]\n",
    "names.head()"
   ]
  },
  {
   "cell_type": "code",
   "execution_count": null,
   "metadata": {},
   "outputs": [],
   "source": [
    "\n",
    "values={}\n",
    "\n",
    "for x in names:\n",
    "    #print(x)\n",
    "    value=roc_calcualte(x,Healthy_count,CHD_count)\n",
    "    values[x]=value\n",
    "        "
   ]
  },
  {
   "cell_type": "code",
   "execution_count": 56,
   "metadata": {},
   "outputs": [
    {
     "name": "stdout",
     "output_type": "stream",
     "text": [
      "109440\n"
     ]
    }
   ],
   "source": [
    "print(len(values))"
   ]
  },
  {
   "cell_type": "code",
   "execution_count": null,
   "metadata": {
    "scrolled": true
   },
   "outputs": [],
   "source": [
    "out=open('roc-data/CHD-vs-health-longRNA.txt','w')\n",
    "out.write(\"data_source\\tclassification\\tname\\tauc\\tfpr\\ttpr\\tmicro-auc\\tmicro-fpr\\tmicor-tpr\\tmacro-acu\\tmacro-fpr\\tmacro-tpr\\n\")\n",
    "for name in names:\n",
    "    string=roc_calcualte_all(name)\n",
    "    array1=name.split('|')\n",
    "    name=array1[0]\n",
    "    name=name.replace('hsa-','')\n",
    "    variable1=np.array2string(string[0][0]).replace('\\n','')\n",
    "    variable1=re.sub('\\s+',\",\",variable1)\n",
    "    variable2=np.array2string(string[0][1]).replace('\\n','')\n",
    "    variable2=re.sub('\\s+',\",\",variable2)\n",
    "    \n",
    "    variable3=np.array2string(string[0][2]).replace('\\n','')\n",
    "    variable3=re.sub('\\s+',\",\",variable3)\n",
    "    \n",
    "    variable4=np.array2string(string[1][0]).replace('\\n','')\n",
    "    variable4=re.sub('\\s+',\",\",variable4)\n",
    "    \n",
    "    variable5=np.array2string(string[1][1]).replace('\\n','')\n",
    "    variable5=re.sub('\\s+',\",\",variable5)\n",
    "    \n",
    "    variable6=np.array2string(string[1][2]).replace('\\n','')\n",
    "    variable6=re.sub('\\s+',\",\",variable6)\n",
    "    \n",
    "    variable7=np.array2string(string[2][0]).replace('\\n','')\n",
    "    variable7=re.sub('\\s+',\",\",variable7)\n",
    "    \n",
    "    variable8=np.array2string(string[2][1]).replace('\\n','')\n",
    "    variable8=re.sub('\\s+',\",\",variable8)\n",
    "    \n",
    "    variable9=np.array2string(string[2][2]).replace('\\n','')\n",
    "    variable9=re.sub('\\s+',\",\",variable9)\n",
    "\n",
    "    out.write(\"26786760\\tCHD\\t\"+str(name)+\"\\t\"+variable1+\"\\t\"+variable2+\"\\t\"+variable3+\"\\t\"+variable4+\"\\t\"+variable5+\"\\t\"+variable6+\"\\t\"+variable7+\"\\t\"+variable8+\"\\t\"+variable9+\"\\n\")\n",
    "\n",
    "    \n",
    "    \n",
    "    \n"
   ]
  },
  {
   "cell_type": "code",
   "execution_count": 57,
   "metadata": {},
   "outputs": [
    {
     "name": "stdout",
     "output_type": "stream",
     "text": [
      "109440\n"
     ]
    }
   ],
   "source": [
    "print(len(values))"
   ]
  },
  {
   "cell_type": "code",
   "execution_count": 49,
   "metadata": {},
   "outputs": [],
   "source": [
    "values_sorted=sorted(values.items(), key=lambda x: x[1],reverse=True)\n",
    "values_table=pd.DataFrame.from_dict(values_sorted)"
   ]
  },
  {
   "cell_type": "code",
   "execution_count": null,
   "metadata": {},
   "outputs": [],
   "source": []
  },
  {
   "cell_type": "code",
   "execution_count": 50,
   "metadata": {},
   "outputs": [
    {
     "name": "stdout",
     "output_type": "stream",
     "text": [
      "                                                        0    1\n",
      "0       ENSG00000206652.1|snRNA|RNU1-1|ENSG00000206652...  1.0\n",
      "1       ENSG00000207513.1|snRNA|RNU1-3|ENSG00000207513...  1.0\n",
      "2       ENSG00000207389.1|snRNA|RNU1-4|ENSG00000207389...  1.0\n",
      "3       ENSG00000207005.1|snRNA|RNU1-2|ENSG00000207005...  1.0\n",
      "4       ENSG00000157978.11|mRNA|LDLRAP1|ENSG0000015797...  1.0\n",
      "5       ENSG00000182749.5|mRNA|PAQR7|ENSG00000182749.5...  1.0\n",
      "6       ENSG00000270103.3|lncRNA|AL360012.1|ENSG000002...  1.0\n",
      "7       ENSG00000274978.1|snRNA|RNU11|ENSG00000274978....  1.0\n",
      "8       ENSG00000206737.1|snRNA|RNVU1-18|ENSG000002067...  1.0\n",
      "9       ENSG00000273768.1|snRNA|U1|ENSG00000273768.1|E...  1.0\n",
      "10      ENSG00000206585.1|snRNA|RNVU1-7|ENSG0000020658...  1.0\n",
      "11      ENSG00000183598.3|mRNA|HIST2H3D|ENSG0000018359...  1.0\n",
      "12      ENSG00000203811.1|mRNA|HIST2H3C|ENSG0000020381...  1.0\n",
      "13      ENSG00000197956.9|mRNA|S100A6|ENSG00000197956....  1.0\n",
      "14      ENSG00000196154.11|mRNA|S100A4|ENSG00000196154...  1.0\n",
      "15      ENSG00000143549.19|mRNA|TPM3|ENSG00000143549.1...  1.0\n",
      "16      ENSG00000198715.11|mRNA|GLMP|ENSG00000198715.1...  1.0\n",
      "17      ENSG00000237250.3|lncRNA|AL359924.1|ENSG000002...  1.0\n",
      "18      ENSG00000239899.3|srpRNA|RN7SL674P|ENSG0000023...  1.0\n",
      "19      ENSG00000273398.6|mRNA|AC017083.4|ENSG00000273...  1.0\n",
      "20      ENSG00000072135.12|mRNA|PTPN18|ENSG00000072135...  1.0\n",
      "21      ENSG00000188219.14|mRNA|POTEE|ENSG00000188219....  1.0\n",
      "22      ENSG00000263740.2|srpRNA|RN7SL4P|ENSG000002637...  1.0\n",
      "23      ENSG00000183873.15|mRNA|SCN5A|ENSG00000183873....  1.0\n",
      "24      ENSG00000164047.4|mRNA|CAMP|ENSG00000164047.4|...  1.0\n",
      "25      ENSG00000269028.3|mRNA|MTRNR2L12|ENSG000002690...  1.0\n",
      "26      ENSG00000241529.3|srpRNA|RN7SL767P|ENSG0000024...  1.0\n",
      "27      ENSG00000239437.3|srpRNA|RN7SL752P|ENSG0000023...  1.0\n",
      "28      ENSG00000174891.12|mRNA|RSRC1|ENSG00000174891....  1.0\n",
      "29      ENSG00000240567.1|lncRNA|LINC02067|ENSG0000024...  1.0\n",
      "...                                                   ...  ...\n",
      "109410  hsa_circ_0140603|circRNA|hsa_circ_0140603|hsa_...  0.5\n",
      "109411  hsa_circ_0140614|circRNA|hsa_circ_0140614|hsa_...  0.5\n",
      "109412  hsa_circ_0140624|circRNA|hsa_circ_0140624|hsa_...  0.5\n",
      "109413  hsa_circ_0140633|circRNA|hsa_circ_0140633|hsa_...  0.5\n",
      "109414  hsa_circ_0140636|circRNA|hsa_circ_0140636|hsa_...  0.5\n",
      "109415  hsa_circ_0140641|circRNA|hsa_circ_0140641|hsa_...  0.5\n",
      "109416  hsa_circ_0140667|circRNA|hsa_circ_0140667|hsa_...  0.5\n",
      "109417  hsa_circ_0140669|circRNA|hsa_circ_0140669|hsa_...  0.5\n",
      "109418  hsa_circ_0140670|circRNA|hsa_circ_0140670|hsa_...  0.5\n",
      "109419  hsa_circ_0140671|circRNA|hsa_circ_0140671|hsa_...  0.5\n",
      "109420  hsa_circ_0140679|circRNA|hsa_circ_0140679|hsa_...  0.5\n",
      "109421  hsa_circ_0140683|circRNA|hsa_circ_0140683|hsa_...  0.5\n",
      "109422  hsa_circ_0140684|circRNA|hsa_circ_0140684|hsa_...  0.5\n",
      "109423  hsa_circ_0140690|circRNA|hsa_circ_0140690|hsa_...  0.5\n",
      "109424  hsa_circ_0140692|circRNA|hsa_circ_0140692|hsa_...  0.5\n",
      "109425  hsa_circ_0140696|circRNA|hsa_circ_0140696|hsa_...  0.5\n",
      "109426  hsa_circ_0140712|circRNA|hsa_circ_0140712|hsa_...  0.5\n",
      "109427  hsa_circ_0140719|circRNA|hsa_circ_0140719|hsa_...  0.5\n",
      "109428  hsa_circ_0140721|circRNA|hsa_circ_0140721|hsa_...  0.5\n",
      "109429  hsa_circ_0140725|circRNA|hsa_circ_0140725|hsa_...  0.5\n",
      "109430  hsa_circ_0140728|circRNA|hsa_circ_0140728|hsa_...  0.5\n",
      "109431  hsa_circ_0140729|circRNA|hsa_circ_0140729|hsa_...  0.5\n",
      "109432  hsa_circ_0140738|circRNA|hsa_circ_0140738|hsa_...  0.5\n",
      "109433  hsa_circ_0140740|circRNA|hsa_circ_0140740|hsa_...  0.5\n",
      "109434  hsa_circ_0140763|circRNA|hsa_circ_0140763|hsa_...  0.5\n",
      "109435  hsa_circ_0140766|circRNA|hsa_circ_0140766|hsa_...  0.5\n",
      "109436  hsa_circ_0140780|circRNA|hsa_circ_0140780|hsa_...  0.5\n",
      "109437  hsa_circ_0140782|circRNA|hsa_circ_0140782|hsa_...  0.5\n",
      "109438  hsa_circ_0140788|circRNA|hsa_circ_0140788|hsa_...  0.5\n",
      "109439  ENSG00000026950.16|mRNA|BTN3A1|ENSG00000026950...  0.5\n",
      "\n",
      "[109440 rows x 2 columns]\n"
     ]
    }
   ],
   "source": [
    "print(values_table)\n",
    "values_table.to_csv('healty_vs_CHD-long.csv',  encoding='utf-8')"
   ]
  },
  {
   "cell_type": "code",
   "execution_count": 53,
   "metadata": {},
   "outputs": [
    {
     "name": "stdout",
     "output_type": "stream",
     "text": [
      "ENSG00000206652.1|snRNA|RNU1-1|ENSG00000206652.1|ENSG00000206652.1|0|164 1.0\n",
      "ENSG00000207513.1|snRNA|RNU1-3|ENSG00000207513.1|ENSG00000207513.1|0|164 1.0\n",
      "ENSG00000207389.1|snRNA|RNU1-4|ENSG00000207389.1|ENSG00000207389.1|0|164 1.0\n",
      "ENSG00000207005.1|snRNA|RNU1-2|ENSG00000207005.1|ENSG00000207005.1|0|164 1.0\n",
      "ENSG00000157978.11|mRNA|LDLRAP1|ENSG00000157978.11|ENSG00000157978.11|0|5397 1.0\n",
      "ENSG00000182749.5|mRNA|PAQR7|ENSG00000182749.5|ENSG00000182749.5|0|3297 1.0\n",
      "ENSG00000270103.3|lncRNA|AL360012.1|ENSG00000270103.3|ENSG00000270103.3|0|131 1.0\n",
      "ENSG00000274978.1|snRNA|RNU11|ENSG00000274978.1|ENSG00000274978.1|0|134 1.0\n",
      "ENSG00000206737.1|snRNA|RNVU1-18|ENSG00000206737.1|ENSG00000206737.1|0|164 1.0\n",
      "ENSG00000273768.1|snRNA|U1|ENSG00000273768.1|ENSG00000273768.1|0|164 1.0\n"
     ]
    }
   ],
   "source": [
    "#print(values_table.iloc[1:11,])\n",
    "for i in range(10):\n",
    "    print(values_table.iloc[i,0],values_table.iloc[i,1])"
   ]
  },
  {
   "cell_type": "code",
   "execution_count": 58,
   "metadata": {},
   "outputs": [
    {
     "data": {
      "image/png": "[encoded data removed]",
      "text/plain": [
       "<Figure size 576x576 with 1 Axes>"
      ]
     },
     "metadata": {},
     "output_type": "display_data"
    }
   ],
   "source": [
    "roc_calcualte_plot('ENSG00000206652.1|snRNA|RNU1-1|ENSG00000206652.1|ENSG00000206652.1|0|164',Healthy_count,CHD_count)"
   ]
  },
  {
   "cell_type": "code",
   "execution_count": 59,
   "metadata": {},
   "outputs": [
    {
     "data": {
      "image/png": "[encoded data removed]",
      "text/plain": [
       "<Figure size 576x576 with 1 Axes>"
      ]
     },
     "metadata": {},
     "output_type": "display_data"
    }
   ],
   "source": [
    "roc_calcualte_plot('ENSG00000207513.1|snRNA|RNU1-3|ENSG00000207513.1|ENSG00000207513.1|0|164',Healthy_count,CHD_count)\n",
    "\n"
   ]
  },
  {
   "cell_type": "code",
   "execution_count": 62,
   "metadata": {},
   "outputs": [
    {
     "data": {
      "image/png": "[encoded data removed]",
      "text/plain": [
       "<Figure size 576x576 with 1 Axes>"
      ]
     },
     "metadata": {},
     "output_type": "display_data"
    }
   ],
   "source": [
    "roc_calcualte_plot('ENSG00000207389.1|snRNA|RNU1-4|ENSG00000207389.1|ENSG00000207389.1|0|164',Healthy_count,CHD_count)\n",
    "\n"
   ]
  },
  {
   "cell_type": "code",
   "execution_count": 63,
   "metadata": {},
   "outputs": [
    {
     "data": {
      "image/png": "[encoded data removed]",
      "text/plain": [
       "<Figure size 576x576 with 1 Axes>"
      ]
     },
     "metadata": {},
     "output_type": "display_data"
    }
   ],
   "source": [
    "roc_calcualte_plot('ENSG00000207005.1|snRNA|RNU1-2|ENSG00000207005.1|ENSG00000207005.1|0|164',Healthy_count,CHD_count)\n",
    "\n"
   ]
  },
  {
   "cell_type": "markdown",
   "metadata": {},
   "source": [
    "## Read biomaker file"
   ]
  },
  {
   "cell_type": "code",
   "execution_count": null,
   "metadata": {},
   "outputs": [],
   "source": [
    "biomarker=pd.read_table('tmp-data/biomaker-id-CRC-0219.txt',sep=\"\\t\")\n",
    "biomarker_name=biomarker.iloc[:,2].values\n",
    "#print(biomarker_name)\n",
    "biomarker_name_array=[]\n",
    "for i in biomarker_name:\n",
    "    array=i.split(',')\n",
    "    for j in array:\n",
    "        biomarker_name_array.append(j)\n",
    "        \n",
    "#print(biomarker_name_array)  "
   ]
  },
  {
   "cell_type": "markdown",
   "metadata": {},
   "source": [
    "### select biomaker "
   ]
  },
  {
   "cell_type": "code",
   "execution_count": null,
   "metadata": {},
   "outputs": [],
   "source": [
    "#print (values_table)\n",
    "biomarker_auc=values_table.loc[values_table[0].isin(biomarker_name_array)]\n",
    "biomarker_auc_values=biomarker_auc.iloc[:,1].values\n",
    "all_auc_values=values_table.iloc[:,1].values\n",
    "\n",
    "print(biomarker_auc_values,all_auc_values)"
   ]
  },
  {
   "cell_type": "code",
   "execution_count": null,
   "metadata": {},
   "outputs": [],
   "source": [
    "data = [all_auc_values,biomarker_auc_values]\n",
    "\n",
    "fig2, ax2 = plt.subplots()\n",
    "ax2.set_title('AUC of All vs Biomarker in CRC')\n",
    "ax2.boxplot(data, notch=True)\n",
    "#plt.plot(all_auc_values,biomarker_auc_values, linewidth=1, color='k')"
   ]
  },
  {
   "cell_type": "code",
   "execution_count": null,
   "metadata": {},
   "outputs": [],
   "source": []
  }
 ],
 "metadata": {
  "kernelspec": {
   "display_name": "Python 3",
   "language": "python",
   "name": "python3"
  },
  "language_info": {
   "codemirror_mode": {
    "name": "ipython",
    "version": 3
   },
   "file_extension": ".py",
   "mimetype": "text/x-python",
   "name": "python",
   "nbconvert_exporter": "python",
   "pygments_lexer": "ipython3",
   "version": "3.6.7"
  },
  "toc": {
   "base_numbering": 1,
   "nav_menu": {},
   "number_sections": true,
   "sideBar": true,
   "skip_h1_title": false,
   "title_cell": "Table of Contents",
   "title_sidebar": "Contents",
   "toc_cell": false,
   "toc_position": {},
   "toc_section_display": true,
   "toc_window_display": false
  }
 },
 "nbformat": 4,
 "nbformat_minor": 2
}
